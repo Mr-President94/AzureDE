{
 "cells": [
  {
   "cell_type": "markdown",
   "metadata": {
    "application/vnd.databricks.v1+cell": {
     "cellMetadata": {},
     "inputWidgets": {},
     "nuid": "df7e83ba-34cd-4f9e-8fb5-eb5ec719cf28",
     "showTitle": false,
     "title": ""
    }
   },
   "source": [
    "<span style=\"color:orange\">\n",
    " <h2> Databricks-Assignment 2 (Basic Data Cleaning Transformation)\n",
    "</span>"
   ]
  },
  {
   "cell_type": "code",
   "execution_count": 0,
   "metadata": {
    "application/vnd.databricks.v1+cell": {
     "cellMetadata": {
      "byteLimit": 2048000,
      "rowLimit": 10000
     },
     "inputWidgets": {},
     "nuid": "d2c8a426-e9f6-4d35-8066-13067c7f1ec8",
     "showTitle": false,
     "title": ""
    }
   },
   "outputs": [],
   "source": [
    "from pyspark.sql.functions import *\n",
    "emp = spark.read.csv(\"dbfs:/FileStore/shared_uploads/rohitamalnerkar@gmail.com/EmployeeData_HhTLiz9LdC_2JpHdxGvrY-1.csv\", header = True, inferSchema = True, sep = ',')"
   ]
  },
  {
   "cell_type": "code",
   "execution_count": 0,
   "metadata": {
    "application/vnd.databricks.v1+cell": {
     "cellMetadata": {
      "byteLimit": 2048000,
      "rowLimit": 10000
     },
     "inputWidgets": {},
     "nuid": "0b1fd6d5-9432-4934-843e-e4c77f51b465",
     "showTitle": false,
     "title": ""
    }
   },
   "outputs": [
    {
     "output_type": "stream",
     "name": "stdout",
     "output_type": "stream",
     "text": [
      "+----+----------+------------+--------------------+------+------+-------------------+--------+\n|  id|first_name|   last_name|               email|gender|salary|       creationDate|   bonus|\n+----+----------+------------+--------------------+------+------+-------------------+--------+\n|   1|    Valene|      Ingley|vingley0@livejour...|Female| 44104|1957-09-09 16:44:40|    null|\n|   2|  Lynnelle|       Hurll| lhurll1@answers.com|Female|112411|1907-05-10 17:38:56|    null|\n|   3|   Miranda|       Train|   mtrain2@imgur.com|Female| 91073|1941-01-24 16:05:23|12875.54|\n|   4|    Dulsea|        Foss|dfoss3@dagondesig...|Female|193291|1942-05-09 20:59:39|    null|\n|   5|    Anatol|     Dunklee| adunklee4@google.de|  Male| 22175|1950-07-26 16:28:00| 1432.12|\n|   6|     Baily|      Antony| bantony5@sfgate.com|  Male|127337|1913-10-14 11:25:33|    null|\n|   7|    Eunice|      Cardus|ecardus6@scientif...|Female|136574|1901-11-02 15:09:47|38676.94|\n|   8|  Aubrette|     Lippett| alippett7@nifty.com|Female|165713|1919-12-16 08:20:42|60150.66|\n|   9|   Sibylla|   Sickamore|ssickamore8@faceb...|Female|107243|2020-03-15 15:00:30|    null|\n|  10|      null|      Altree|paltree9@dropbox.com|Female|197594|1975-06-21 23:27:12|72533.37|\n|  11|      Coop|       Richt|   crichta@sogou.com|  Male| 19964|1939-02-13 16:18:24|56973.41|\n|  12|  Giuseppe|     Scimoni|gscimonib@craigsl...|  Male|176531|1967-04-06 07:23:03|    null|\n|  13|    Lovell|     Iorizzo|liorizzoc@cpanel.net|  Male|189150|1949-06-06 16:25:20| 41474.8|\n|  14|       Deb|       Mogra|   dmograd@bbc.co.uk|Female|197829|1997-07-27 14:55:52|46528.57|\n|  15|  Hastings|    Jelliman|hjellimane@histat...|  Male|179296|1915-07-05 07:02:06|80194.64|\n|  16|     Josee|      Burnep|    jburnepf@php.net|  null| 78569|1923-11-08 20:59:14|88925.13|\n|  17|     Gilly|      Fownes|gfownesg@redcross...|Female|  2527|1946-07-30 21:10:57|    null|\n|  18|      null|   Schruyers|lschruyersh@desde...|  Male|109936|1979-06-16 01:12:48|37243.09|\n|  19|     Maris|   Chatelain| mchatelaini@unc.edu|Female|190047|2008-01-11 17:16:21|76469.65|\n|  20|    Casper|     Aughtie|    caughtiej@vk.com|  Male| 38689|1982-04-06 05:13:49| 80404.8|\n|  21|    Kristo|     Giraudy|                null|  Male|152116|1962-08-16 21:27:30| 5982.54|\n|  22|     Becki|       Conry|bconryl@examiner.com|Female| 10203|2003-02-07 10:00:05|47067.23|\n|  23|      Edie|       Orniz|eornizm@moonfruit...|Female| 81920|1982-10-03 14:48:25|20019.85|\n|  24|   Sharity|      Fronks|sfronksn@economis...|Female|169527|1951-06-14 19:32:49| 4960.71|\n|  25|     Vally|    Dahlberg|vdahlbergo@dyndns...|Female| 80628|1924-07-07 06:20:37|60914.52|\n|  26|     Effie| Maffioletti|emaffiolettip@pos...|Female| 34228|1986-03-23 12:03:27|31496.73|\n|null|       Lev|   Jodlowski|ljodlowskiq@addto...|  Male| 69824|               null|48592.15|\n|  28| Sallyanne|   Iacobucci|                null|Female|  2339|1939-05-10 11:30:31| 66003.0|\n|  29|      null|      Nibley|                null|Female|165764|2019-08-30 11:23:27|93953.74|\n|  30|    Gretta|        null|gdeleat@webeden.c...|Female|134143|2001-03-19 12:19:50|    null|\n|  31|    Blayne|   Yuranovev|byuranovevu@blogt...|  Male|188551|1998-07-27 11:30:51|27111.81|\n|  32|      Maud|      Formby|mformbyv@macromed...|Female|182359|1964-08-24 11:02:47|77984.03|\n|  33|      null|  Brauninger|pbrauningerw@wire...|Female|128821|               null|51592.51|\n|  34|    Archer|      Olland|  aollandx@blogs.com|  Male|178365|               null|78036.07|\n|  35|      Barn|       Guido|bguidoy@tripadvis...|  Male|191710|               null|37502.75|\n|  36|  Olenolin|        null|omaestriniz@googl...|  Male|101428|1929-09-27 09:37:46|    null|\n|  37|    Maggee|      Rablin|mrablin10@mashabl...|Female|134344|2004-10-08 01:50:46|60163.15|\n|  38|     Nikki|     Woolner|nwoolner11@linked...|Female|  3792|1942-05-13 12:11:21|21054.48|\n|  39|   Daniele|      Baelde|   dbaelde12@who.int|Female| 85612|1988-05-12 08:40:59|    null|\n|  40|    Farlee|     Fincken|ffincken13@google...|  Male|126873|1937-06-14 23:34:30|58907.18|\n|  41|  Hartwell|Bartholomieu|hbartholomieu14@l...|  Male|191999|1939-03-08 00:35:08|17747.19|\n|  42|    Ellery| Eixenberger|eeixenberger15@sq...|  Male|157758|               null|35763.69|\n|  43|     Adams|        null|acrossley16@hc360...|  Male| 93428|2000-09-17 08:22:15|49390.74|\n|  44| Gilemette|     Lockney|  glockney17@ibm.com|Female| 40386|               null|38024.15|\n|null|  Stephana|    Melladew| smelladew18@aol.com|Female|  null|               null|91281.13|\n|  46|Kristoforo|      Sowray|                null|  Male|131676|1959-03-14 16:01:23|27022.26|\n|  47|    Moishe|    Batstone|mbatstone1a@githu...|  Male|128961|1902-10-13 11:30:12|23957.62|\n|  48|    Weylin|      Heatly|    wheatly1b@ed.gov|  Male|185564|2014-10-27 22:42:51|    null|\n|  49|   Brendin|    Willcott|bwillcott1c@googl...|  Male| 97378|2012-07-03 04:01:16|79157.83|\n|  50|    Maggie|    Pancoust|mpancoust1d@paral...|Female|108630|1973-07-16 06:49:27|65867.23|\n+----+----------+------------+--------------------+------+------+-------------------+--------+\nonly showing top 50 rows\n\n"
     ]
    }
   ],
   "source": [
    "emp.show(50)"
   ]
  },
  {
   "cell_type": "markdown",
   "metadata": {
    "application/vnd.databricks.v1+cell": {
     "cellMetadata": {},
     "inputWidgets": {},
     "nuid": "62c53c84-5d19-4115-a775-314575ce42fc",
     "showTitle": false,
     "title": ""
    }
   },
   "source": [
    "<b> Find the count of duplicate employee records in the input file (based on id)?"
   ]
  },
  {
   "cell_type": "code",
   "execution_count": 0,
   "metadata": {
    "application/vnd.databricks.v1+cell": {
     "cellMetadata": {
      "byteLimit": 2048000,
      "rowLimit": 10000
     },
     "inputWidgets": {},
     "nuid": "2d4e6162-dd1d-497a-b403-121b7b3ad8da",
     "showTitle": false,
     "title": ""
    }
   },
   "outputs": [
    {
     "output_type": "stream",
     "name": "stdout",
     "output_type": "stream",
     "text": [
      "+----------+----------+------------+\n|first_name| last_name|count_of_ids|\n+----------+----------+------------+\n|   Giacomo|      null|           2|\n|  Tremayne|     Beers|           1|\n|      Trix|     Roder|           1|\n|   Rodrigo|    Mepham|           1|\n|   Justinn|   Attwell|           1|\n|      null|   Caulier|           1|\n|     Leola|      null|           1|\n|      null| Castaneda|           1|\n|     Sully|Bortolozzi|           1|\n|     Jinny|   Wraight|           1|\n|        Cy| Denington|           1|\n|    Nadeen|  Kynforth|           1|\n|    Rodney|   Rihosek|           1|\n|  Elisabet|  Napoleon|           1|\n|      Arty|     Hance|           1|\n|   Goddard|      Lude|           1|\n|      null| Achrameev|           1|\n|    Farlee|   Fincken|           1|\n|    Aretha|Kleinplatz|           1|\n|    Elston|      null|           1|\n+----------+----------+------------+\nonly showing top 20 rows\n\n"
     ]
    }
   ],
   "source": [
    "# Write your code using the Spark Function\n",
    "df_temp = emp.groupBy('first_name', 'last_name').agg(count('id').alias('count_of_ids')).orderBy(desc(count('id')))\n",
    "df_temp.show()"
   ]
  },
  {
   "cell_type": "code",
   "execution_count": 0,
   "metadata": {
    "application/vnd.databricks.v1+cell": {
     "cellMetadata": {
      "byteLimit": 2048000,
      "rowLimit": 10000
     },
     "inputWidgets": {},
     "nuid": "7a8ffef6-bd29-4bbc-a0e0-e56ff4342cfd",
     "showTitle": false,
     "title": ""
    }
   },
   "outputs": [
    {
     "output_type": "stream",
     "name": "stdout",
     "output_type": "stream",
     "text": [
      "+----------+---------+------------+\n|first_name|last_name|count_of_ids|\n+----------+---------+------------+\n|   Giacomo|     null|           2|\n+----------+---------+------------+\n\n"
     ]
    }
   ],
   "source": [
    "dups = df_temp.filter(\"count_of_ids > 1\")\n",
    "dups.show()"
   ]
  },
  {
   "cell_type": "markdown",
   "metadata": {
    "application/vnd.databricks.v1+cell": {
     "cellMetadata": {},
     "inputWidgets": {},
     "nuid": "8364e840-c519-4ac5-a1bf-b9b89b994321",
     "showTitle": false,
     "title": ""
    }
   },
   "source": [
    "<b> Find out how many records have Gender value missing."
   ]
  },
  {
   "cell_type": "code",
   "execution_count": 0,
   "metadata": {
    "application/vnd.databricks.v1+cell": {
     "cellMetadata": {
      "byteLimit": 2048000,
      "rowLimit": 10000
     },
     "inputWidgets": {},
     "nuid": "a0185598-138a-4fd1-a503-3e1a0c301712",
     "showTitle": false,
     "title": ""
    }
   },
   "outputs": [
    {
     "output_type": "stream",
     "name": "stdout",
     "output_type": "stream",
     "text": [
      "+----------------------+\n|missing gender records|\n+----------------------+\n|                    28|\n+----------------------+\n\n"
     ]
    }
   ],
   "source": [
    "# Write your code using the Spark Function\n",
    "gender_missing = emp.where(col('gender').isNull()).select(count('id').alias('missing gender records'))\n",
    "gender_missing.show()"
   ]
  },
  {
   "cell_type": "markdown",
   "metadata": {
    "application/vnd.databricks.v1+cell": {
     "cellMetadata": {},
     "inputWidgets": {},
     "nuid": "14772c70-beff-49d9-828a-724188863639",
     "showTitle": false,
     "title": ""
    }
   },
   "source": [
    "d\n",
    "<b> Are there any missing values in the \"bonus\" field? If so, filled them defualt bonus 100."
   ]
  },
  {
   "cell_type": "code",
   "execution_count": 0,
   "metadata": {
    "application/vnd.databricks.v1+cell": {
     "cellMetadata": {
      "byteLimit": 2048000,
      "rowLimit": 10000
     },
     "inputWidgets": {},
     "nuid": "5233f351-ed0d-4c5d-8c49-b382053a6e91",
     "showTitle": false,
     "title": ""
    }
   },
   "outputs": [
    {
     "output_type": "stream",
     "name": "stdout",
     "output_type": "stream",
     "text": [
      "+---+----------+-----------+--------------------+------+------+-------------------+-----+\n| id|first_name|  last_name|               email|gender|salary|       creationDate|bonus|\n+---+----------+-----------+--------------------+------+------+-------------------+-----+\n|  1|    Valene|     Ingley|vingley0@livejour...|Female| 44104|1957-09-09 16:44:40| null|\n|  2|  Lynnelle|      Hurll| lhurll1@answers.com|Female|112411|1907-05-10 17:38:56| null|\n|  4|    Dulsea|       Foss|dfoss3@dagondesig...|Female|193291|1942-05-09 20:59:39| null|\n|  6|     Baily|     Antony| bantony5@sfgate.com|  Male|127337|1913-10-14 11:25:33| null|\n|  9|   Sibylla|  Sickamore|ssickamore8@faceb...|Female|107243|2020-03-15 15:00:30| null|\n| 12|  Giuseppe|    Scimoni|gscimonib@craigsl...|  Male|176531|1967-04-06 07:23:03| null|\n| 17|     Gilly|     Fownes|gfownesg@redcross...|Female|  2527|1946-07-30 21:10:57| null|\n| 30|    Gretta|       null|gdeleat@webeden.c...|Female|134143|2001-03-19 12:19:50| null|\n| 36|  Olenolin|       null|omaestriniz@googl...|  Male|101428|1929-09-27 09:37:46| null|\n| 39|   Daniele|     Baelde|   dbaelde12@who.int|Female| 85612|1988-05-12 08:40:59| null|\n| 48|    Weylin|     Heatly|    wheatly1b@ed.gov|  Male|185564|2014-10-27 22:42:51| null|\n| 67|    Aloise|   Brombell|                null|Female| 51529|1987-02-16 16:02:18| null|\n| 70|    Lianne|       Boam|                null|Female| 13695|1981-04-08 20:31:44| null|\n| 75|    Allina|    Sposito|asposito22@japanp...|Female|130641|1925-01-10 03:12:07| null|\n| 76|     Camey|    Crallan|ccrallan23@earthl...|  Male|147297|1911-07-25 23:37:49| null|\n| 85|      null|  Learmouth|slearmouth2c@ebay...|Female| 60028|               null| null|\n| 91|  Nicolais|Rosenfelder|nrosenfelder2i@pc...|  Male| 70478|               null| null|\n| 96|   Katrina|    Snoxall|ksnoxall2n@buzzfe...|Female| 16459|1991-04-22 23:35:19| null|\n|116|      null|      Jados|                null|  Male| 56578|2002-05-29 06:33:36| null|\n|118|  Karalynn|     Scones| kscones39@weibo.com|Female|180007|               null| null|\n+---+----------+-----------+--------------------+------+------+-------------------+-----+\nonly showing top 20 rows\n\n"
     ]
    }
   ],
   "source": [
    "# Write your code using the Spark Function\n",
    "missing_bonus = emp.filter(col('bonus').isNull())\n",
    "missing_bonus.show()"
   ]
  },
  {
   "cell_type": "code",
   "execution_count": 0,
   "metadata": {
    "application/vnd.databricks.v1+cell": {
     "cellMetadata": {
      "byteLimit": 2048000,
      "rowLimit": 10000
     },
     "inputWidgets": {},
     "nuid": "1d881b13-0f62-4a97-a53b-41c83a7d1f5b",
     "showTitle": false,
     "title": ""
    }
   },
   "outputs": [
    {
     "output_type": "stream",
     "name": "stdout",
     "output_type": "stream",
     "text": [
      "+---+----------+---------+--------------------+------+------+-------------------+--------+\n| id|first_name|last_name|               email|gender|salary|       creationDate|   bonus|\n+---+----------+---------+--------------------+------+------+-------------------+--------+\n|  1|    Valene|   Ingley|vingley0@livejour...|Female| 44104|1957-09-09 16:44:40|   100.0|\n|  2|  Lynnelle|    Hurll| lhurll1@answers.com|Female|112411|1907-05-10 17:38:56|   100.0|\n|  3|   Miranda|    Train|   mtrain2@imgur.com|Female| 91073|1941-01-24 16:05:23|12875.54|\n|  4|    Dulsea|     Foss|dfoss3@dagondesig...|Female|193291|1942-05-09 20:59:39|   100.0|\n|  5|    Anatol|  Dunklee| adunklee4@google.de|  Male| 22175|1950-07-26 16:28:00| 1432.12|\n|  6|     Baily|   Antony| bantony5@sfgate.com|  Male|127337|1913-10-14 11:25:33|   100.0|\n|  7|    Eunice|   Cardus|ecardus6@scientif...|Female|136574|1901-11-02 15:09:47|38676.94|\n|  8|  Aubrette|  Lippett| alippett7@nifty.com|Female|165713|1919-12-16 08:20:42|60150.66|\n|  9|   Sibylla|Sickamore|ssickamore8@faceb...|Female|107243|2020-03-15 15:00:30|   100.0|\n| 10|      null|   Altree|paltree9@dropbox.com|Female|197594|1975-06-21 23:27:12|72533.37|\n| 11|      Coop|    Richt|   crichta@sogou.com|  Male| 19964|1939-02-13 16:18:24|56973.41|\n| 12|  Giuseppe|  Scimoni|gscimonib@craigsl...|  Male|176531|1967-04-06 07:23:03|   100.0|\n| 13|    Lovell|  Iorizzo|liorizzoc@cpanel.net|  Male|189150|1949-06-06 16:25:20| 41474.8|\n| 14|       Deb|    Mogra|   dmograd@bbc.co.uk|Female|197829|1997-07-27 14:55:52|46528.57|\n| 15|  Hastings| Jelliman|hjellimane@histat...|  Male|179296|1915-07-05 07:02:06|80194.64|\n| 16|     Josee|   Burnep|    jburnepf@php.net|  null| 78569|1923-11-08 20:59:14|88925.13|\n| 17|     Gilly|   Fownes|gfownesg@redcross...|Female|  2527|1946-07-30 21:10:57|   100.0|\n| 18|      null|Schruyers|lschruyersh@desde...|  Male|109936|1979-06-16 01:12:48|37243.09|\n| 19|     Maris|Chatelain| mchatelaini@unc.edu|Female|190047|2008-01-11 17:16:21|76469.65|\n| 20|    Casper|  Aughtie|    caughtiej@vk.com|  Male| 38689|1982-04-06 05:13:49| 80404.8|\n+---+----------+---------+--------------------+------+------+-------------------+--------+\nonly showing top 20 rows\n\n"
     ]
    }
   ],
   "source": [
    "emp2 = emp.fillna(value=100, subset=[\"bonus\"])\n",
    "emp2.show()"
   ]
  },
  {
   "cell_type": "code",
   "execution_count": 0,
   "metadata": {
    "application/vnd.databricks.v1+cell": {
     "cellMetadata": {
      "byteLimit": 2048000,
      "rowLimit": 10000
     },
     "inputWidgets": {},
     "nuid": "3d7ecc1a-7c58-483a-a2af-26e053911eb8",
     "showTitle": false,
     "title": ""
    }
   },
   "outputs": [
    {
     "output_type": "stream",
     "name": "stdout",
     "output_type": "stream",
     "text": [
      "+---+----------+---------+-----+------+------+------------+-----+\n| id|first_name|last_name|email|gender|salary|creationDate|bonus|\n+---+----------+---------+-----+------+------+------------+-----+\n+---+----------+---------+-----+------+------+------------+-----+\n\n"
     ]
    }
   ],
   "source": [
    "emp3 = emp2.filter(col('bonus').isNull())\n",
    "emp3.show()"
   ]
  },
  {
   "cell_type": "markdown",
   "metadata": {
    "application/vnd.databricks.v1+cell": {
     "cellMetadata": {},
     "inputWidgets": {},
     "nuid": "cae0fe03-6339-4dac-9a18-1a5a1da78612",
     "showTitle": false,
     "title": ""
    }
   },
   "source": [
    "d\n",
    "<b> Are there any employees with negative salary or bonus amounts in the input file? If so, how many?"
   ]
  },
  {
   "cell_type": "code",
   "execution_count": 0,
   "metadata": {
    "application/vnd.databricks.v1+cell": {
     "cellMetadata": {
      "byteLimit": 2048000,
      "rowLimit": 10000
     },
     "inputWidgets": {},
     "nuid": "0bf0728d-c9ff-4d5f-9cb4-00d7a34bb988",
     "showTitle": false,
     "title": ""
    }
   },
   "outputs": [
    {
     "output_type": "stream",
     "name": "stdout",
     "output_type": "stream",
     "text": [
      "+---+\n| id|\n+---+\n+---+\n\n"
     ]
    }
   ],
   "source": [
    "# Write your code using the Spark Function\n",
    "neg = emp.select('id').where(\"salary < 0 or bonus < 0\")\n",
    "neg.show()"
   ]
  },
  {
   "cell_type": "markdown",
   "metadata": {
    "application/vnd.databricks.v1+cell": {
     "cellMetadata": {},
     "inputWidgets": {},
     "nuid": "8e58642b-6aff-4351-92a0-cea48bfdc948",
     "showTitle": false,
     "title": ""
    }
   },
   "source": [
    "d\n",
    "<b> Replace all the null/emtpy value in email column with admin@azurelib.com"
   ]
  },
  {
   "cell_type": "code",
   "execution_count": 0,
   "metadata": {
    "application/vnd.databricks.v1+cell": {
     "cellMetadata": {
      "byteLimit": 2048000,
      "rowLimit": 10000
     },
     "inputWidgets": {},
     "nuid": "4288320d-f41e-4719-99a6-93fe790beacb",
     "showTitle": false,
     "title": ""
    }
   },
   "outputs": [
    {
     "output_type": "stream",
     "name": "stdout",
     "output_type": "stream",
     "text": [
      "+----+----------+-----------+-----+------+------+-------------------+--------+\n|  id|first_name|  last_name|email|gender|salary|       creationDate|   bonus|\n+----+----------+-----------+-----+------+------+-------------------+--------+\n|  21|    Kristo|    Giraudy| null|  Male|152116|1962-08-16 21:27:30| 5982.54|\n|  28| Sallyanne|  Iacobucci| null|Female|  2339|1939-05-10 11:30:31| 66003.0|\n|  29|      null|     Nibley| null|Female|165764|2019-08-30 11:23:27|93953.74|\n|  46|Kristoforo|     Sowray| null|  Male|131676|1959-03-14 16:01:23|27022.26|\n|  64|   Cordell|Baszkiewicz| null|  Male| 89429|1998-04-26 03:44:59|50640.06|\n|  67|    Aloise|   Brombell| null|Female| 51529|1987-02-16 16:02:18|    null|\n|  70|    Lianne|       Boam| null|Female| 13695|1981-04-08 20:31:44|    null|\n|  78|   Jillian|    Chasmar| null|Female| 18805|2019-01-07 02:06:41|93412.65|\n|  95|     Davey|  Woodworth| null|  Male|  8569|2000-05-24 18:03:02|92849.24|\n|  97|    Thorpe|    Gabotti| null|  Male|167464|1982-06-30 21:33:46|  8679.7|\n|null|    Darren|       null| null|  Male|111848|1940-11-30 02:35:02| 6461.19|\n| 116|      null|      Jados| null|  Male| 56578|2002-05-29 06:33:36|    null|\n| 123|    Malchy|  Whitefoot| null|  Male| 28052|1918-08-05 15:45:12|39117.02|\n| 142|       Erv|     Griggs| null|  Male|144655|2007-11-09 22:05:38| 95251.8|\n| 145|     Adele|     Taylot| null|Female|  null|1968-01-14 05:31:32|    null|\n| 146|    Amargo|   Tresvina| null|Female|185482|1962-04-26 20:02:19|45135.71|\n| 152|    Lorrin|   Stopford| null|Female| 53416|1918-07-11 08:09:31|94705.56|\n| 163|   Jeffrey|     Sugars| null|  Male|112937|1978-08-15 19:03:34|92001.92|\n| 165|      Kirk|     Haddon| null|  Male| 46136|1975-07-12 23:15:40|68143.38|\n| 169|    Jamesy|      Gilby| null|  Male|153493|1971-01-28 04:00:18|27030.09|\n+----+----------+-----------+-----+------+------+-------------------+--------+\nonly showing top 20 rows\n\n"
     ]
    }
   ],
   "source": [
    "# Write your code using the Spark Function\n",
    "emp.select('*').where(col('email').isNull()).show()"
   ]
  },
  {
   "cell_type": "code",
   "execution_count": 0,
   "metadata": {
    "application/vnd.databricks.v1+cell": {
     "cellMetadata": {
      "byteLimit": 2048000,
      "rowLimit": 10000
     },
     "inputWidgets": {},
     "nuid": "b5bb13f0-ac36-4d93-830d-e3486c413e86",
     "showTitle": false,
     "title": ""
    }
   },
   "outputs": [
    {
     "output_type": "stream",
     "name": "stdout",
     "output_type": "stream",
     "text": [
      "+----+----------+-----------+-------------+------+------+-------------------+--------+\n|  id|first_name|  last_name|        email|gender|salary|       creationDate|   bonus|\n+----+----------+-----------+-------------+------+------+-------------------+--------+\n|  21|    Kristo|    Giraudy|xyz@gmail.com|  Male|152116|1962-08-16 21:27:30| 5982.54|\n|  28| Sallyanne|  Iacobucci|xyz@gmail.com|Female|  2339|1939-05-10 11:30:31| 66003.0|\n|  29|      null|     Nibley|xyz@gmail.com|Female|165764|2019-08-30 11:23:27|93953.74|\n|  46|Kristoforo|     Sowray|xyz@gmail.com|  Male|131676|1959-03-14 16:01:23|27022.26|\n|  64|   Cordell|Baszkiewicz|xyz@gmail.com|  Male| 89429|1998-04-26 03:44:59|50640.06|\n|  67|    Aloise|   Brombell|xyz@gmail.com|Female| 51529|1987-02-16 16:02:18|    null|\n|  70|    Lianne|       Boam|xyz@gmail.com|Female| 13695|1981-04-08 20:31:44|    null|\n|  78|   Jillian|    Chasmar|xyz@gmail.com|Female| 18805|2019-01-07 02:06:41|93412.65|\n|  95|     Davey|  Woodworth|xyz@gmail.com|  Male|  8569|2000-05-24 18:03:02|92849.24|\n|  97|    Thorpe|    Gabotti|xyz@gmail.com|  Male|167464|1982-06-30 21:33:46|  8679.7|\n|null|    Darren|       null|xyz@gmail.com|  Male|111848|1940-11-30 02:35:02| 6461.19|\n| 116|      null|      Jados|xyz@gmail.com|  Male| 56578|2002-05-29 06:33:36|    null|\n| 123|    Malchy|  Whitefoot|xyz@gmail.com|  Male| 28052|1918-08-05 15:45:12|39117.02|\n| 142|       Erv|     Griggs|xyz@gmail.com|  Male|144655|2007-11-09 22:05:38| 95251.8|\n| 145|     Adele|     Taylot|xyz@gmail.com|Female|  null|1968-01-14 05:31:32|    null|\n| 146|    Amargo|   Tresvina|xyz@gmail.com|Female|185482|1962-04-26 20:02:19|45135.71|\n| 152|    Lorrin|   Stopford|xyz@gmail.com|Female| 53416|1918-07-11 08:09:31|94705.56|\n| 163|   Jeffrey|     Sugars|xyz@gmail.com|  Male|112937|1978-08-15 19:03:34|92001.92|\n| 165|      Kirk|     Haddon|xyz@gmail.com|  Male| 46136|1975-07-12 23:15:40|68143.38|\n| 169|    Jamesy|      Gilby|xyz@gmail.com|  Male|153493|1971-01-28 04:00:18|27030.09|\n+----+----------+-----------+-------------+------+------+-------------------+--------+\nonly showing top 20 rows\n\n"
     ]
    }
   ],
   "source": [
    "emp3 = emp.na.fill(value='xyz@gmail.com', subset=[\"email\"])\n",
    "emp3.select('*').where(\"email = 'xyz@gmail.com'\").show()"
   ]
  },
  {
   "cell_type": "markdown",
   "metadata": {
    "application/vnd.databricks.v1+cell": {
     "cellMetadata": {},
     "inputWidgets": {},
     "nuid": "d39815e9-f12a-497e-a658-fc9f1c98d271",
     "showTitle": false,
     "title": ""
    }
   },
   "source": [
    "d\n",
    "<b> Remove all the records where any record has any null values. Find out the total count of the records now."
   ]
  },
  {
   "cell_type": "code",
   "execution_count": 0,
   "metadata": {
    "application/vnd.databricks.v1+cell": {
     "cellMetadata": {
      "byteLimit": 2048000,
      "rowLimit": 10000
     },
     "inputWidgets": {},
     "nuid": "c1035982-814b-43ff-b9df-55e89c658f68",
     "showTitle": false,
     "title": ""
    }
   },
   "outputs": [
    {
     "output_type": "stream",
     "name": "stdout",
     "output_type": "stream",
     "text": [
      "+------------+\n|current rows|\n+------------+\n|        1000|\n+------------+\n\n"
     ]
    }
   ],
   "source": [
    "# Write your code using the Spark Function\n",
    "emp4 = emp.select(count('*').alias('current rows'))\n",
    "emp4.show()"
   ]
  },
  {
   "cell_type": "code",
   "execution_count": 0,
   "metadata": {
    "application/vnd.databricks.v1+cell": {
     "cellMetadata": {
      "byteLimit": 2048000,
      "rowLimit": 10000
     },
     "inputWidgets": {},
     "nuid": "ad7dca3d-8a05-4215-b81d-b19f83de569c",
     "showTitle": false,
     "title": ""
    }
   },
   "outputs": [
    {
     "output_type": "stream",
     "name": "stdout",
     "output_type": "stream",
     "text": [
      "+--------------+\n|rows w/o nulls|\n+--------------+\n|           512|\n+--------------+\n\n"
     ]
    }
   ],
   "source": [
    "emp5 = emp.na.drop(\"any\")\n",
    "clean_rows = emp5.select(count('*').alias('rows w/o nulls'))\n",
    "clean_rows.show()"
   ]
  },
  {
   "cell_type": "code",
   "execution_count": 0,
   "metadata": {
    "application/vnd.databricks.v1+cell": {
     "cellMetadata": {},
     "inputWidgets": {},
     "nuid": "e15d0628-990c-410d-a71f-10aa902a3707",
     "showTitle": false,
     "title": ""
    }
   },
   "outputs": [],
   "source": []
  }
 ],
 "metadata": {
  "application/vnd.databricks.v1+notebook": {
   "dashboards": [],
   "language": "python",
   "notebookMetadata": {
    "pythonIndentUnit": 2
   },
   "notebookName": "Databricks-Assignment 2 (Basic Data Cleaning Transformation)",
   "widgets": {}
  }
 },
 "nbformat": 4,
 "nbformat_minor": 0
}
