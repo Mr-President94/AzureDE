{
 "cells": [
  {
   "cell_type": "markdown",
   "metadata": {
    "application/vnd.databricks.v1+cell": {
     "cellMetadata": {},
     "inputWidgets": {},
     "nuid": "56c5b381-2cb2-4701-a84d-63ff0cac11fe",
     "showTitle": false,
     "title": ""
    }
   },
   "source": [
    "<span style=\"color:orange\">\n",
    " <h2> Databricks-Assignment 4: Advance String Manupulation Transformation)\n",
    "</span>"
   ]
  },
  {
   "cell_type": "code",
   "execution_count": 0,
   "metadata": {
    "application/vnd.databricks.v1+cell": {
     "cellMetadata": {
      "byteLimit": 2048000,
      "rowLimit": 10000
     },
     "inputWidgets": {},
     "nuid": "05b13b97-a3a3-4428-af35-ce0f1d142142",
     "showTitle": false,
     "title": ""
    }
   },
   "outputs": [
    {
     "output_type": "stream",
     "name": "stdout",
     "output_type": "stream",
     "text": [
      "+---+----------+---------+-------------------------------+------+------+-------------------+--------+\n|id |first_name|last_name|email                          |gender|salary|creationDate       |bonus   |\n+---+----------+---------+-------------------------------+------+------+-------------------+--------+\n|1  |Valene    |Ingley   |vingley0@livejournal.com       |Female|44104 |1957-09-09 16:44:40|null    |\n|2  |Lynnelle  |Hurll    |lhurll1@answers.com            |Female|112411|1907-05-10 17:38:56|null    |\n|3  |Miranda   |Train    |mtrain2@imgur.com              |Female|91073 |1941-01-24 16:05:23|12875.54|\n|4  |Dulsea    |Foss     |dfoss3@dagondesign.com         |Female|193291|1942-05-09 20:59:39|null    |\n|5  |Anatol    |Dunklee  |adunklee4@google.de            |Male  |22175 |1950-07-26 16:28:00|1432.12 |\n|6  |Baily     |Antony   |bantony5@sfgate.com            |Male  |127337|1913-10-14 11:25:33|null    |\n|7  |Eunice    |Cardus   |ecardus6@scientificamerican.com|Female|136574|1901-11-02 15:09:47|38676.94|\n|8  |Aubrette  |Lippett  |alippett7@nifty.com            |Female|165713|1919-12-16 08:20:42|60150.66|\n|9  |Sibylla   |Sickamore|ssickamore8@facebook.com       |Female|107243|2020-03-15 15:00:30|null    |\n|10 |null      |Altree   |paltree9@dropbox.com           |Female|197594|1975-06-21 23:27:12|72533.37|\n|11 |Coop      |Richt    |crichta@sogou.com              |Male  |19964 |1939-02-13 16:18:24|56973.41|\n|12 |Giuseppe  |Scimoni  |gscimonib@craigslist.org       |Male  |176531|1967-04-06 07:23:03|null    |\n|13 |Lovell    |Iorizzo  |liorizzoc@cpanel.net           |Male  |189150|1949-06-06 16:25:20|41474.8 |\n|14 |Deb       |Mogra    |dmograd@bbc.co.uk              |Female|197829|1997-07-27 14:55:52|46528.57|\n|15 |Hastings  |Jelliman |hjellimane@histats.com         |Male  |179296|1915-07-05 07:02:06|80194.64|\n|16 |Josee     |Burnep   |jburnepf@php.net               |null  |78569 |1923-11-08 20:59:14|88925.13|\n|17 |Gilly     |Fownes   |gfownesg@redcross.org          |Female|2527  |1946-07-30 21:10:57|null    |\n|18 |null      |Schruyers|lschruyersh@desdev.cn          |Male  |109936|1979-06-16 01:12:48|37243.09|\n|19 |Maris     |Chatelain|mchatelaini@unc.edu            |Female|190047|2008-01-11 17:16:21|76469.65|\n|20 |Casper    |Aughtie  |caughtiej@vk.com               |Male  |38689 |1982-04-06 05:13:49|80404.8 |\n+---+----------+---------+-------------------------------+------+------+-------------------+--------+\nonly showing top 20 rows\n\nroot\n |-- id: integer (nullable = true)\n |-- first_name: string (nullable = true)\n |-- last_name: string (nullable = true)\n |-- email: string (nullable = true)\n |-- gender: string (nullable = true)\n |-- salary: integer (nullable = true)\n |-- creationDate: timestamp (nullable = true)\n |-- bonus: double (nullable = true)\n\n"
     ]
    }
   ],
   "source": [
    "from pyspark.sql.functions import *\n",
    "emp = spark.read.csv(\"dbfs:/FileStore/shared_uploads/rohitamalnerkar@gmail.com/EmployeeData_HhTLiz9LdC_2JpHdxGvrY-1.csv\", header = True, inferSchema = True, sep = ',')\n",
    "emp.show(truncate = False)\n",
    "emp.printSchema()"
   ]
  },
  {
   "cell_type": "markdown",
   "metadata": {
    "application/vnd.databricks.v1+cell": {
     "cellMetadata": {},
     "inputWidgets": {},
     "nuid": "01541cf5-29d4-4dbe-a0a2-9666393c4171",
     "showTitle": false,
     "title": ""
    }
   },
   "source": [
    "<b> What is the abbreviated version of each employee's last name, with the first letter and the two following letters included?"
   ]
  },
  {
   "cell_type": "code",
   "execution_count": 0,
   "metadata": {
    "application/vnd.databricks.v1+cell": {
     "cellMetadata": {
      "byteLimit": 2048000,
      "rowLimit": 10000
     },
     "inputWidgets": {},
     "nuid": "83f0e040-3b07-4e4d-842b-6eedba9aa448",
     "showTitle": false,
     "title": ""
    }
   },
   "outputs": [
    {
     "output_type": "stream",
     "name": "stdout",
     "output_type": "stream",
     "text": [
      "+---------+-------------+\n|last_name|abrv_lastName|\n+---------+-------------+\n|Ingley   |Ing          |\n|Hurll    |Hur          |\n|Train    |Tra          |\n|Foss     |Fos          |\n|Dunklee  |Dun          |\n|Antony   |Ant          |\n|Cardus   |Car          |\n|Lippett  |Lip          |\n|Sickamore|Sic          |\n|Altree   |Alt          |\n|Richt    |Ric          |\n|Scimoni  |Sci          |\n|Iorizzo  |Ior          |\n|Mogra    |Mog          |\n|Jelliman |Jel          |\n|Burnep   |Bur          |\n|Fownes   |Fow          |\n|Schruyers|Sch          |\n|Chatelain|Cha          |\n|Aughtie  |Aug          |\n+---------+-------------+\nonly showing top 20 rows\n\n"
     ]
    }
   ],
   "source": [
    "# Write your code using the Spark Function\n",
    "abrv_lname = emp.select('last_name', col('last_name').substr(1, 3).alias('abrv_lastName'))\n",
    "abrv_lname.show(truncate = False)"
   ]
  },
  {
   "cell_type": "markdown",
   "metadata": {
    "application/vnd.databricks.v1+cell": {
     "cellMetadata": {},
     "inputWidgets": {},
     "nuid": "7596956d-789a-43c8-b3e7-470db0f35fca",
     "showTitle": false,
     "title": ""
    }
   },
   "source": [
    "d\n",
    "<b> What is the domain name of each employee's email address, so that their emails can be filtered and routed to the correct department?"
   ]
  },
  {
   "cell_type": "code",
   "execution_count": 0,
   "metadata": {
    "application/vnd.databricks.v1+cell": {
     "cellMetadata": {
      "byteLimit": 2048000,
      "rowLimit": 10000
     },
     "inputWidgets": {},
     "nuid": "b2bc2ab9-4479-4ed0-a510-b0ec1455a9a8",
     "showTitle": false,
     "title": ""
    }
   },
   "outputs": [
    {
     "output_type": "stream",
     "name": "stdout",
     "output_type": "stream",
     "text": [
      "+----------------------+\n|domain                |\n+----------------------+\n|livejournal.com       |\n|answers.com           |\n|imgur.com             |\n|dagondesign.com       |\n|google.de             |\n|sfgate.com            |\n|scientificamerican.com|\n|nifty.com             |\n|facebook.com          |\n|dropbox.com           |\n|sogou.com             |\n|craigslist.org        |\n|cpanel.net            |\n|bbc.co.uk             |\n|histats.com           |\n|php.net               |\n|redcross.org          |\n|desdev.cn             |\n|unc.edu               |\n|vk.com                |\n+----------------------+\nonly showing top 20 rows\n\n"
     ]
    }
   ],
   "source": [
    "# Write your code using the Spark Function\n",
    "emp_domain = emp.select(split(\"email\", \"@\")[1].alias('domain'))\n",
    "emp_domain.show(truncate = False)"
   ]
  },
  {
   "cell_type": "markdown",
   "metadata": {
    "application/vnd.databricks.v1+cell": {
     "cellMetadata": {},
     "inputWidgets": {},
     "nuid": "fdb6949e-fbda-47a0-b9e3-9b5aa8e5788b",
     "showTitle": false,
     "title": ""
    }
   },
   "source": [
    "d\n",
    "<b> In an effort to protect their privacy, what is each employee's name spelled backwards?"
   ]
  },
  {
   "cell_type": "code",
   "execution_count": 0,
   "metadata": {
    "application/vnd.databricks.v1+cell": {
     "cellMetadata": {
      "byteLimit": 2048000,
      "rowLimit": 10000
     },
     "inputWidgets": {},
     "nuid": "d8172873-7db2-4382-850c-569ba2491ad2",
     "showTitle": false,
     "title": ""
    }
   },
   "outputs": [
    {
     "output_type": "stream",
     "name": "stdout",
     "output_type": "stream",
     "text": [
      "+-----------+-------------+\n|normal_name|reversed_name|\n+-----------+-------------+\n|Valene     |enelaV       |\n|Lynnelle   |ellennyL     |\n|Miranda    |adnariM      |\n|Dulsea     |aesluD       |\n|Anatol     |lotanA       |\n|Baily      |yliaB        |\n|Eunice     |ecinuE       |\n|Aubrette   |etterbuA     |\n|Sibylla    |allybiS      |\n|null       |null         |\n|Coop       |pooC         |\n|Giuseppe   |eppesuiG     |\n|Lovell     |llevoL       |\n|Deb        |beD          |\n|Hastings   |sgnitsaH     |\n|Josee      |eesoJ        |\n|Gilly      |ylliG        |\n|null       |null         |\n|Maris      |siraM        |\n|Casper     |repsaC       |\n+-----------+-------------+\nonly showing top 20 rows\n\n"
     ]
    }
   ],
   "source": [
    "# Write your code using the Spark Function\n",
    "encrypt_name = emp.select(col('first_name').alias('normal_name'), reverse(col('first_name')).alias('reversed_name'))\n",
    "encrypt_name.show(truncate = False)"
   ]
  },
  {
   "cell_type": "markdown",
   "metadata": {
    "application/vnd.databricks.v1+cell": {
     "cellMetadata": {},
     "inputWidgets": {},
     "nuid": "5a7155e5-4aa6-4e30-b244-fc6ad8d3fed8",
     "showTitle": false,
     "title": ""
    }
   },
   "source": [
    "d\n",
    "<b> In order to make their email addresses harder to guess, what is each employee's email address spelled backwards?"
   ]
  },
  {
   "cell_type": "code",
   "execution_count": 0,
   "metadata": {
    "application/vnd.databricks.v1+cell": {
     "cellMetadata": {
      "byteLimit": 2048000,
      "rowLimit": 10000
     },
     "inputWidgets": {},
     "nuid": "b10ce1ed-e48d-493d-8148-63acadce18e6",
     "showTitle": false,
     "title": ""
    }
   },
   "outputs": [
    {
     "output_type": "stream",
     "name": "stdout",
     "output_type": "stream",
     "text": [
      "+-------------------------------+-------------------------------+\n|normal_email                   |reversed_email                 |\n+-------------------------------+-------------------------------+\n|vingley0@livejournal.com       |moc.lanruojevil@0yelgniv       |\n|lhurll1@answers.com            |moc.srewsna@1llruhl            |\n|mtrain2@imgur.com              |moc.rugmi@2niartm              |\n|dfoss3@dagondesign.com         |moc.ngisednogad@3ssofd         |\n|adunklee4@google.de            |ed.elgoog@4eelknuda            |\n|bantony5@sfgate.com            |moc.etagfs@5ynotnab            |\n|ecardus6@scientificamerican.com|moc.naciremacifitneics@6sudrace|\n|alippett7@nifty.com            |moc.ytfin@7tteppila            |\n|ssickamore8@facebook.com       |moc.koobecaf@8eromakciss       |\n|paltree9@dropbox.com           |moc.xobpord@9eertlap           |\n|crichta@sogou.com              |moc.uogos@athcirc              |\n|gscimonib@craigslist.org       |gro.tsilsgiarc@binomicsg       |\n|liorizzoc@cpanel.net           |ten.lenapc@cozziroil           |\n|dmograd@bbc.co.uk              |ku.oc.cbb@dargomd              |\n|hjellimane@histats.com         |moc.statsih@enamillejh         |\n|jburnepf@php.net               |ten.php@fpenrubj               |\n|gfownesg@redcross.org          |gro.ssorcder@gsenwofg          |\n|lschruyersh@desdev.cn          |nc.vedsed@hsreyurhcsl          |\n|mchatelaini@unc.edu            |ude.cnu@inialetahcm            |\n|caughtiej@vk.com               |moc.kv@jeithguac               |\n+-------------------------------+-------------------------------+\nonly showing top 20 rows\n\n"
     ]
    }
   ],
   "source": [
    "# Write your code using the Spark Function\n",
    "encrypt_email = emp.select(col('email').alias('normal_email'), reverse(col('email')).alias('reversed_email'))\n",
    "encrypt_email.show(truncate = False)"
   ]
  },
  {
   "cell_type": "markdown",
   "metadata": {
    "application/vnd.databricks.v1+cell": {
     "cellMetadata": {},
     "inputWidgets": {},
     "nuid": "15178c86-7b61-4b25-a42e-850363b01dd6",
     "showTitle": false,
     "title": ""
    }
   },
   "source": [
    "d\n",
    "<b> What is each employee's first name, repeated twice, to improve personalization of emails and messages?"
   ]
  },
  {
   "cell_type": "code",
   "execution_count": 0,
   "metadata": {
    "application/vnd.databricks.v1+cell": {
     "cellMetadata": {
      "byteLimit": 2048000,
      "rowLimit": 10000
     },
     "inputWidgets": {},
     "nuid": "c8fd7215-3afd-4fd9-9c43-51ca81c25aa2",
     "showTitle": false,
     "title": ""
    }
   },
   "outputs": [
    {
     "output_type": "stream",
     "name": "stdout",
     "output_type": "stream",
     "text": [
      "+----------+----------------+\n|first_name|repeated_name   |\n+----------+----------------+\n|Valene    |ValeneValene    |\n|Lynnelle  |LynnelleLynnelle|\n|Miranda   |MirandaMiranda  |\n|Dulsea    |DulseaDulsea    |\n|Anatol    |AnatolAnatol    |\n|Baily     |BailyBaily      |\n|Eunice    |EuniceEunice    |\n|Aubrette  |AubretteAubrette|\n|Sibylla   |SibyllaSibylla  |\n|null      |                |\n|Coop      |CoopCoop        |\n|Giuseppe  |GiuseppeGiuseppe|\n|Lovell    |LovellLovell    |\n|Deb       |DebDeb          |\n|Hastings  |HastingsHastings|\n|Josee     |JoseeJosee      |\n|Gilly     |GillyGilly      |\n|null      |                |\n|Maris     |MarisMaris      |\n|Casper    |CasperCasper    |\n+----------+----------------+\nonly showing top 20 rows\n\n"
     ]
    }
   ],
   "source": [
    "# Write your code using the Spark Function\n",
    "repeats = 2\n",
    "namex2 = emp.select('first_name', concat_ws(\"\", *[col(\"first_name\") for _ in range(repeats)]).alias('repeated_name'))\n",
    "namex2.show(truncate = False)"
   ]
  },
  {
   "cell_type": "code",
   "execution_count": 0,
   "metadata": {
    "application/vnd.databricks.v1+cell": {
     "cellMetadata": {
      "byteLimit": 2048000,
      "rowLimit": 10000
     },
     "inputWidgets": {},
     "nuid": "711ae4cd-28d5-4bce-8ff5-1e91464f3834",
     "showTitle": false,
     "title": ""
    }
   },
   "outputs": [
    {
     "output_type": "stream",
     "name": "stdout",
     "output_type": "stream",
     "text": [
      "Out[26]: '\\nexplanation for above\\n*[col(\"first_name\") for _ in range(repeat_count)]: This part generates a list of repeat_count instances of the \"first_name\" column. The asterisk * before the list is used to unpack the list and provide its elements as separate arguments to the function.\\nAs a result, this part creates a list of \"first_name\" columns repeated repeat_count times.\\n'"
     ]
    }
   ],
   "source": [
    "\n",
    "'''\n",
    "explanation for above\n",
    "*[col(\"first_name\") for _ in range(repeat_count)]: This part generates a list of repeat_count instances of the \"first_name\" column. The asterisk * before the list is used to unpack the list and provide its elements as separate arguments to the function.\n",
    "As a result, this part creates a list of \"first_name\" columns repeated repeat_count times.\n",
    "'''"
   ]
  },
  {
   "cell_type": "markdown",
   "metadata": {
    "application/vnd.databricks.v1+cell": {
     "cellMetadata": {},
     "inputWidgets": {},
     "nuid": "ca3eba0e-0df9-42b8-bc99-39867c2a7e82",
     "showTitle": false,
     "title": ""
    }
   },
   "source": [
    "d\n",
    "<b> What is the country code of each employee's email domain, which can help identify global market opportunities?"
   ]
  },
  {
   "cell_type": "code",
   "execution_count": 0,
   "metadata": {
    "application/vnd.databricks.v1+cell": {
     "cellMetadata": {
      "byteLimit": 2048000,
      "rowLimit": 10000
     },
     "inputWidgets": {},
     "nuid": "0b3a65e9-58dc-43a4-b926-31bae3f440b4",
     "showTitle": false,
     "title": ""
    }
   },
   "outputs": [
    {
     "output_type": "stream",
     "name": "stdout",
     "output_type": "stream",
     "text": [
      "+-------------------------------+------------+\n|email                          |country_code|\n+-------------------------------+------------+\n|vingley0@livejournal.com       |com         |\n|lhurll1@answers.com            |com         |\n|mtrain2@imgur.com              |com         |\n|dfoss3@dagondesign.com         |com         |\n|adunklee4@google.de            |de          |\n|bantony5@sfgate.com            |com         |\n|ecardus6@scientificamerican.com|com         |\n|alippett7@nifty.com            |com         |\n|ssickamore8@facebook.com       |com         |\n|paltree9@dropbox.com           |com         |\n|crichta@sogou.com              |com         |\n|gscimonib@craigslist.org       |org         |\n|liorizzoc@cpanel.net           |net         |\n|dmograd@bbc.co.uk              |uk          |\n|hjellimane@histats.com         |com         |\n|jburnepf@php.net               |net         |\n|gfownesg@redcross.org          |org         |\n|lschruyersh@desdev.cn          |cn          |\n|mchatelaini@unc.edu            |edu         |\n|caughtiej@vk.com               |com         |\n+-------------------------------+------------+\nonly showing top 20 rows\n\n"
     ]
    }
   ],
   "source": [
    "# Write your code using the Spark Function\n",
    "country_code = emp.select('email', substring_index(col('email'), \".\", -1).alias('country_code'))\n",
    "country_code.show(truncate = False)"
   ]
  },
  {
   "cell_type": "markdown",
   "metadata": {
    "application/vnd.databricks.v1+cell": {
     "cellMetadata": {},
     "inputWidgets": {},
     "nuid": "6db5e71a-f747-43fc-8834-1c348a80a44b",
     "showTitle": false,
     "title": ""
    }
   },
   "source": [
    "d\n",
    "<b> What is the position of the first occurrence of a dot ('.') character in each employee's email address, which can be used to standardize email addresses in a database?"
   ]
  },
  {
   "cell_type": "code",
   "execution_count": 0,
   "metadata": {
    "application/vnd.databricks.v1+cell": {
     "cellMetadata": {
      "byteLimit": 2048000,
      "rowLimit": 10000
     },
     "inputWidgets": {},
     "nuid": "0f13f23e-65f5-443a-86cf-b28f16fa7389",
     "showTitle": false,
     "title": ""
    }
   },
   "outputs": [
    {
     "output_type": "stream",
     "name": "stdout",
     "output_type": "stream",
     "text": [
      "+-------------------------------+-------------------------+\n|email                          |first_occurence_of_period|\n+-------------------------------+-------------------------+\n|vingley0@livejournal.com       |21                       |\n|lhurll1@answers.com            |16                       |\n|mtrain2@imgur.com              |14                       |\n|dfoss3@dagondesign.com         |19                       |\n|adunklee4@google.de            |17                       |\n|bantony5@sfgate.com            |16                       |\n|ecardus6@scientificamerican.com|28                       |\n|alippett7@nifty.com            |16                       |\n|ssickamore8@facebook.com       |21                       |\n|paltree9@dropbox.com           |17                       |\n|crichta@sogou.com              |14                       |\n|gscimonib@craigslist.org       |21                       |\n|liorizzoc@cpanel.net           |17                       |\n|dmograd@bbc.co.uk              |12                       |\n|hjellimane@histats.com         |19                       |\n|jburnepf@php.net               |13                       |\n|gfownesg@redcross.org          |18                       |\n|lschruyersh@desdev.cn          |19                       |\n|mchatelaini@unc.edu            |16                       |\n|caughtiej@vk.com               |13                       |\n+-------------------------------+-------------------------+\nonly showing top 20 rows\n\n"
     ]
    }
   ],
   "source": [
    "# Write your code using the Spark Function\n",
    "period_occurence = emp.select('email', instr(col('email'), \".\").alias('first_occurence_of_period'))\n",
    "period_occurence.show(truncate = False)"
   ]
  },
  {
   "cell_type": "markdown",
   "metadata": {
    "application/vnd.databricks.v1+cell": {
     "cellMetadata": {},
     "inputWidgets": {},
     "nuid": "85b1a79d-65b9-4a95-831a-57eea6c251f9",
     "showTitle": false,
     "title": ""
    }
   },
   "source": [
    "d\n",
    "<b> What is the full name and email address of each employee, concatenated with a space separator, for use in email communication?"
   ]
  },
  {
   "cell_type": "code",
   "execution_count": 0,
   "metadata": {
    "application/vnd.databricks.v1+cell": {
     "cellMetadata": {
      "byteLimit": 2048000,
      "rowLimit": 10000
     },
     "inputWidgets": {},
     "nuid": "4708e08e-0200-4e40-a9ed-87f0a3e72bc6",
     "showTitle": false,
     "title": ""
    }
   },
   "outputs": [
    {
     "output_type": "stream",
     "name": "stdout",
     "output_type": "stream",
     "text": [
      "+---------------------------------------+\n|full_name                              |\n+---------------------------------------+\n|Valene, vingley0@livejournal.com       |\n|Lynnelle, lhurll1@answers.com          |\n|Miranda, mtrain2@imgur.com             |\n|Dulsea, dfoss3@dagondesign.com         |\n|Anatol, adunklee4@google.de            |\n|Baily, bantony5@sfgate.com             |\n|Eunice, ecardus6@scientificamerican.com|\n|Aubrette, alippett7@nifty.com          |\n|Sibylla, ssickamore8@facebook.com      |\n|paltree9@dropbox.com                   |\n|Coop, crichta@sogou.com                |\n|Giuseppe, gscimonib@craigslist.org     |\n|Lovell, liorizzoc@cpanel.net           |\n|Deb, dmograd@bbc.co.uk                 |\n|Hastings, hjellimane@histats.com       |\n|Josee, jburnepf@php.net                |\n|Gilly, gfownesg@redcross.org           |\n|lschruyersh@desdev.cn                  |\n|Maris, mchatelaini@unc.edu             |\n|Casper, caughtiej@vk.com               |\n+---------------------------------------+\nonly showing top 20 rows\n\n"
     ]
    }
   ],
   "source": [
    "# Write your code using the Spark Function\n",
    "full_name = emp.select(concat_ws(\", \", col('first_name'), col('email')).alias('full_name'))\n",
    "full_name.show(truncate = False)"
   ]
  },
  {
   "cell_type": "markdown",
   "metadata": {
    "application/vnd.databricks.v1+cell": {
     "cellMetadata": {},
     "inputWidgets": {},
     "nuid": "34faa5af-6a42-4638-860e-0a8248284e63",
     "showTitle": false,
     "title": ""
    }
   },
   "source": [
    "d\n",
    "<b> What is the first letter of each employee's first name in uppercase, followed by the rest of the name in lowercase, to ensure consistency and proper capitalization?"
   ]
  },
  {
   "cell_type": "code",
   "execution_count": 0,
   "metadata": {
    "application/vnd.databricks.v1+cell": {
     "cellMetadata": {
      "byteLimit": 2048000,
      "rowLimit": 10000
     },
     "inputWidgets": {},
     "nuid": "bfb43dc0-bb19-4109-bbb4-090859ce1363",
     "showTitle": false,
     "title": ""
    }
   },
   "outputs": [
    {
     "output_type": "stream",
     "name": "stdout",
     "output_type": "stream",
     "text": [
      "+----------+---------+\n|first_name|caps_name|\n+----------+---------+\n|Valene    |Valene   |\n|Lynnelle  |Lynnelle |\n|Miranda   |Miranda  |\n|Dulsea    |Dulsea   |\n|Anatol    |Anatol   |\n|Baily     |Baily    |\n|Eunice    |Eunice   |\n|Aubrette  |Aubrette |\n|Sibylla   |Sibylla  |\n|null      |null     |\n|Coop      |Coop     |\n|Giuseppe  |Giuseppe |\n|Lovell    |Lovell   |\n|Deb       |Deb      |\n|Hastings  |Hastings |\n|Josee     |Josee    |\n|Gilly     |Gilly    |\n|null      |null     |\n|Maris     |Maris    |\n|Casper    |Casper   |\n+----------+---------+\nonly showing top 20 rows\n\n"
     ]
    }
   ],
   "source": [
    "# Write your code using the Spark Function\n",
    "caps_name = emp.select('first_name', initcap(col('first_name')).alias('caps_name'))\n",
    "caps_name.show(truncate=False)"
   ]
  },
  {
   "cell_type": "code",
   "execution_count": 0,
   "metadata": {
    "application/vnd.databricks.v1+cell": {
     "cellMetadata": {},
     "inputWidgets": {},
     "nuid": "676a27d6-9d96-4bf3-b7de-9546644d9489",
     "showTitle": false,
     "title": ""
    }
   },
   "outputs": [],
   "source": []
  }
 ],
 "metadata": {
  "application/vnd.databricks.v1+notebook": {
   "dashboards": [],
   "language": "python",
   "notebookMetadata": {
    "pythonIndentUnit": 2
   },
   "notebookName": "Databricks-Assignment 4: Advance String Manupulation Transformation)",
   "widgets": {}
  }
 },
 "nbformat": 4,
 "nbformat_minor": 0
}
