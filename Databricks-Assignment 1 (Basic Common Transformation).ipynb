{
 "cells": [
  {
   "cell_type": "markdown",
   "metadata": {
    "application/vnd.databricks.v1+cell": {
     "cellMetadata": {
      "byteLimit": 2048000,
      "rowLimit": 10000
     },
     "inputWidgets": {},
     "nuid": "6987a7a6-3052-4bf1-870d-06369bbbc824",
     "showTitle": false,
     "title": ""
    }
   },
   "source": [
    "<span style=\"color:orange\">\n",
    " <h2> Databricks-Assignment 1 (Basic Common Transformation)\n",
    "</span>"
   ]
  },
  {
   "cell_type": "code",
   "execution_count": 0,
   "metadata": {
    "application/vnd.databricks.v1+cell": {
     "cellMetadata": {
      "byteLimit": 2048000,
      "rowLimit": 10000
     },
     "inputWidgets": {},
     "nuid": "8eb68965-ceea-4071-b3c8-99f0c9cf5634",
     "showTitle": false,
     "title": ""
    }
   },
   "outputs": [],
   "source": [
    "from pyspark.sql.functions import *"
   ]
  },
  {
   "cell_type": "code",
   "execution_count": 0,
   "metadata": {
    "application/vnd.databricks.v1+cell": {
     "cellMetadata": {
      "byteLimit": 2048000,
      "rowLimit": 10000
     },
     "inputWidgets": {},
     "nuid": "f97ff312-ead2-46b8-92bf-6537b25133d0",
     "showTitle": false,
     "title": ""
    }
   },
   "outputs": [],
   "source": [
    "emp = spark.read.csv(\"dbfs:/FileStore/shared_uploads/rohitamalnerkar@gmail.com/EmployeeData_HhTLiz9LdC_2JpHdxGvrY-1.csv\", header = True, inferSchema = True, sep = ',')"
   ]
  },
  {
   "cell_type": "code",
   "execution_count": 0,
   "metadata": {
    "application/vnd.databricks.v1+cell": {
     "cellMetadata": {
      "byteLimit": 2048000,
      "rowLimit": 10000
     },
     "inputWidgets": {},
     "nuid": "b7e710cb-6538-4f7e-ba97-652e4b1771a5",
     "showTitle": false,
     "title": ""
    }
   },
   "outputs": [
    {
     "output_type": "stream",
     "name": "stdout",
     "output_type": "stream",
     "text": [
      "root\n |-- id: integer (nullable = true)\n |-- first_name: string (nullable = true)\n |-- last_name: string (nullable = true)\n |-- email: string (nullable = true)\n |-- gender: string (nullable = true)\n |-- salary: integer (nullable = true)\n |-- creationDate: timestamp (nullable = true)\n |-- bonus: double (nullable = true)\n\n"
     ]
    }
   ],
   "source": [
    "emp.printSchema()"
   ]
  },
  {
   "cell_type": "code",
   "execution_count": 0,
   "metadata": {
    "application/vnd.databricks.v1+cell": {
     "cellMetadata": {
      "byteLimit": 2048000,
      "rowLimit": 10000
     },
     "inputWidgets": {},
     "nuid": "98ceae3f-4e03-4161-969a-3f1df59e886f",
     "showTitle": false,
     "title": ""
    }
   },
   "outputs": [
    {
     "output_type": "stream",
     "name": "stdout",
     "output_type": "stream",
     "text": [
      "+----+----------+------------+--------------------+------+------+-------------------+--------+\n|  id|first_name|   last_name|               email|gender|salary|       creationDate|   bonus|\n+----+----------+------------+--------------------+------+------+-------------------+--------+\n|   1|    Valene|      Ingley|vingley0@livejour...|Female| 44104|1957-09-09 16:44:40|    null|\n|   2|  Lynnelle|       Hurll| lhurll1@answers.com|Female|112411|1907-05-10 17:38:56|    null|\n|   3|   Miranda|       Train|   mtrain2@imgur.com|Female| 91073|1941-01-24 16:05:23|12875.54|\n|   4|    Dulsea|        Foss|dfoss3@dagondesig...|Female|193291|1942-05-09 20:59:39|    null|\n|   5|    Anatol|     Dunklee| adunklee4@google.de|  Male| 22175|1950-07-26 16:28:00| 1432.12|\n|   6|     Baily|      Antony| bantony5@sfgate.com|  Male|127337|1913-10-14 11:25:33|    null|\n|   7|    Eunice|      Cardus|ecardus6@scientif...|Female|136574|1901-11-02 15:09:47|38676.94|\n|   8|  Aubrette|     Lippett| alippett7@nifty.com|Female|165713|1919-12-16 08:20:42|60150.66|\n|   9|   Sibylla|   Sickamore|ssickamore8@faceb...|Female|107243|2020-03-15 15:00:30|    null|\n|  10|      null|      Altree|paltree9@dropbox.com|Female|197594|1975-06-21 23:27:12|72533.37|\n|  11|      Coop|       Richt|   crichta@sogou.com|  Male| 19964|1939-02-13 16:18:24|56973.41|\n|  12|  Giuseppe|     Scimoni|gscimonib@craigsl...|  Male|176531|1967-04-06 07:23:03|    null|\n|  13|    Lovell|     Iorizzo|liorizzoc@cpanel.net|  Male|189150|1949-06-06 16:25:20| 41474.8|\n|  14|       Deb|       Mogra|   dmograd@bbc.co.uk|Female|197829|1997-07-27 14:55:52|46528.57|\n|  15|  Hastings|    Jelliman|hjellimane@histat...|  Male|179296|1915-07-05 07:02:06|80194.64|\n|  16|     Josee|      Burnep|    jburnepf@php.net|  null| 78569|1923-11-08 20:59:14|88925.13|\n|  17|     Gilly|      Fownes|gfownesg@redcross...|Female|  2527|1946-07-30 21:10:57|    null|\n|  18|      null|   Schruyers|lschruyersh@desde...|  Male|109936|1979-06-16 01:12:48|37243.09|\n|  19|     Maris|   Chatelain| mchatelaini@unc.edu|Female|190047|2008-01-11 17:16:21|76469.65|\n|  20|    Casper|     Aughtie|    caughtiej@vk.com|  Male| 38689|1982-04-06 05:13:49| 80404.8|\n|  21|    Kristo|     Giraudy|                null|  Male|152116|1962-08-16 21:27:30| 5982.54|\n|  22|     Becki|       Conry|bconryl@examiner.com|Female| 10203|2003-02-07 10:00:05|47067.23|\n|  23|      Edie|       Orniz|eornizm@moonfruit...|Female| 81920|1982-10-03 14:48:25|20019.85|\n|  24|   Sharity|      Fronks|sfronksn@economis...|Female|169527|1951-06-14 19:32:49| 4960.71|\n|  25|     Vally|    Dahlberg|vdahlbergo@dyndns...|Female| 80628|1924-07-07 06:20:37|60914.52|\n|  26|     Effie| Maffioletti|emaffiolettip@pos...|Female| 34228|1986-03-23 12:03:27|31496.73|\n|null|       Lev|   Jodlowski|ljodlowskiq@addto...|  Male| 69824|               null|48592.15|\n|  28| Sallyanne|   Iacobucci|                null|Female|  2339|1939-05-10 11:30:31| 66003.0|\n|  29|      null|      Nibley|                null|Female|165764|2019-08-30 11:23:27|93953.74|\n|  30|    Gretta|        null|gdeleat@webeden.c...|Female|134143|2001-03-19 12:19:50|    null|\n|  31|    Blayne|   Yuranovev|byuranovevu@blogt...|  Male|188551|1998-07-27 11:30:51|27111.81|\n|  32|      Maud|      Formby|mformbyv@macromed...|Female|182359|1964-08-24 11:02:47|77984.03|\n|  33|      null|  Brauninger|pbrauningerw@wire...|Female|128821|               null|51592.51|\n|  34|    Archer|      Olland|  aollandx@blogs.com|  Male|178365|               null|78036.07|\n|  35|      Barn|       Guido|bguidoy@tripadvis...|  Male|191710|               null|37502.75|\n|  36|  Olenolin|        null|omaestriniz@googl...|  Male|101428|1929-09-27 09:37:46|    null|\n|  37|    Maggee|      Rablin|mrablin10@mashabl...|Female|134344|2004-10-08 01:50:46|60163.15|\n|  38|     Nikki|     Woolner|nwoolner11@linked...|Female|  3792|1942-05-13 12:11:21|21054.48|\n|  39|   Daniele|      Baelde|   dbaelde12@who.int|Female| 85612|1988-05-12 08:40:59|    null|\n|  40|    Farlee|     Fincken|ffincken13@google...|  Male|126873|1937-06-14 23:34:30|58907.18|\n|  41|  Hartwell|Bartholomieu|hbartholomieu14@l...|  Male|191999|1939-03-08 00:35:08|17747.19|\n|  42|    Ellery| Eixenberger|eeixenberger15@sq...|  Male|157758|               null|35763.69|\n|  43|     Adams|        null|acrossley16@hc360...|  Male| 93428|2000-09-17 08:22:15|49390.74|\n|  44| Gilemette|     Lockney|  glockney17@ibm.com|Female| 40386|               null|38024.15|\n|null|  Stephana|    Melladew| smelladew18@aol.com|Female|  null|               null|91281.13|\n|  46|Kristoforo|      Sowray|                null|  Male|131676|1959-03-14 16:01:23|27022.26|\n|  47|    Moishe|    Batstone|mbatstone1a@githu...|  Male|128961|1902-10-13 11:30:12|23957.62|\n|  48|    Weylin|      Heatly|    wheatly1b@ed.gov|  Male|185564|2014-10-27 22:42:51|    null|\n|  49|   Brendin|    Willcott|bwillcott1c@googl...|  Male| 97378|2012-07-03 04:01:16|79157.83|\n|  50|    Maggie|    Pancoust|mpancoust1d@paral...|Female|108630|1973-07-16 06:49:27|65867.23|\n+----+----------+------------+--------------------+------+------+-------------------+--------+\nonly showing top 50 rows\n\n"
     ]
    }
   ],
   "source": [
    "emp.show(50)"
   ]
  },
  {
   "cell_type": "code",
   "execution_count": 0,
   "metadata": {
    "application/vnd.databricks.v1+cell": {
     "cellMetadata": {
      "byteLimit": 2048000,
      "rowLimit": 10000
     },
     "inputWidgets": {},
     "nuid": "f7f2e5b8-5cf1-4b89-a484-6e30d3799fbd",
     "showTitle": false,
     "title": ""
    }
   },
   "outputs": [
    {
     "output_type": "stream",
     "name": "stdout",
     "output_type": "stream",
     "text": [
      "+------+\n|gender|\n+------+\n|  null|\n|Female|\n|  Male|\n+------+\n\n"
     ]
    }
   ],
   "source": [
    "emp.select('gender').distinct().show()"
   ]
  },
  {
   "cell_type": "markdown",
   "metadata": {
    "application/vnd.databricks.v1+cell": {
     "cellMetadata": {
      "byteLimit": 2048000,
      "rowLimit": 10000
     },
     "inputWidgets": {},
     "nuid": "5b3ac98b-ae08-42ca-83aa-2c68621fd1c3",
     "showTitle": false,
     "title": ""
    }
   },
   "source": [
    "<b>How many employees are in the input file?"
   ]
  },
  {
   "cell_type": "code",
   "execution_count": 0,
   "metadata": {
    "application/vnd.databricks.v1+cell": {
     "cellMetadata": {
      "byteLimit": 2048000,
      "rowLimit": 10000
     },
     "inputWidgets": {},
     "nuid": "ab3fead4-1dbe-4381-8bdf-5cec62470790",
     "showTitle": false,
     "title": ""
    }
   },
   "outputs": [
    {
     "output_type": "stream",
     "name": "stdout",
     "output_type": "stream",
     "text": [
      "+--------------+\n|employee_count|\n+--------------+\n|           970|\n+--------------+\n\n"
     ]
    }
   ],
   "source": [
    "# Write your code using the Spark Function\n",
    "employee_count = emp.select(countDistinct('id').alias('employee_count'))\n",
    "employee_count.show()"
   ]
  },
  {
   "cell_type": "markdown",
   "metadata": {
    "application/vnd.databricks.v1+cell": {
     "cellMetadata": {
      "byteLimit": 2048000,
      "rowLimit": 10000
     },
     "inputWidgets": {},
     "nuid": "7ceaa11f-bcb6-4659-a6bc-d4c4983acfb2",
     "showTitle": false,
     "title": ""
    }
   },
   "source": [
    "<b> What is the average salary of all the employees?"
   ]
  },
  {
   "cell_type": "code",
   "execution_count": 0,
   "metadata": {
    "application/vnd.databricks.v1+cell": {
     "cellMetadata": {
      "byteLimit": 2048000,
      "rowLimit": 10000
     },
     "inputWidgets": {},
     "nuid": "7d8dccf8-21cf-4e27-9e29-6874cef7cc5b",
     "showTitle": false,
     "title": ""
    }
   },
   "outputs": [
    {
     "output_type": "stream",
     "name": "stdout",
     "output_type": "stream",
     "text": [
      "+------------------+\n|        avg_salary|\n+------------------+\n|100011.38125665602|\n+------------------+\n\n"
     ]
    }
   ],
   "source": [
    "# Write your code using the Spark Function\n",
    "emp.createOrReplaceTempView(\"emptemp\")\n",
    "avg_salary = spark.sql('select avg(salary) as avg_salary from emptemp')\n",
    "avg_salary.show()"
   ]
  },
  {
   "cell_type": "code",
   "execution_count": 0,
   "metadata": {
    "application/vnd.databricks.v1+cell": {
     "cellMetadata": {
      "byteLimit": 2048000,
      "rowLimit": 10000
     },
     "inputWidgets": {},
     "nuid": "1489ff2c-fc5b-42de-9557-6100ae32ffb1",
     "showTitle": false,
     "title": ""
    }
   },
   "outputs": [
    {
     "output_type": "stream",
     "name": "stdout",
     "output_type": "stream",
     "text": [
      "+------------------+\n|        avg_salary|\n+------------------+\n|100011.38125665602|\n+------------------+\n\n"
     ]
    }
   ],
   "source": [
    "sal = emp.select(avg('salary').alias('avg_salary'))\n",
    "sal.show()"
   ]
  },
  {
   "cell_type": "code",
   "execution_count": 0,
   "metadata": {
    "application/vnd.databricks.v1+cell": {
     "cellMetadata": {
      "byteLimit": 2048000,
      "rowLimit": 10000
     },
     "inputWidgets": {},
     "nuid": "733ad9e3-4a18-4f1a-b48d-511d1e879e1a",
     "showTitle": false,
     "title": ""
    }
   },
   "outputs": [
    {
     "output_type": "stream",
     "name": "stdout",
     "output_type": "stream",
     "text": [
      "+------------------+\n|        avg_salary|\n+------------------+\n|100011.38125665602|\n+------------------+\n\n"
     ]
    }
   ],
   "source": [
    "# avg salary\n",
    "avg_salary.show()"
   ]
  },
  {
   "cell_type": "markdown",
   "metadata": {
    "application/vnd.databricks.v1+cell": {
     "cellMetadata": {
      "byteLimit": 2048000,
      "rowLimit": 10000
     },
     "inputWidgets": {},
     "nuid": "808bdc43-42d2-4945-9bf4-99ff444ee1fa",
     "showTitle": false,
     "title": ""
    }
   },
   "source": [
    "<b> How many male and female employees are there in the input file?"
   ]
  },
  {
   "cell_type": "code",
   "execution_count": 0,
   "metadata": {
    "application/vnd.databricks.v1+cell": {
     "cellMetadata": {
      "byteLimit": 2048000,
      "rowLimit": 10000
     },
     "inputWidgets": {},
     "nuid": "0d890aac-43dd-49fb-9ac2-999158e327c9",
     "showTitle": false,
     "title": ""
    }
   },
   "outputs": [
    {
     "output_type": "stream",
     "name": "stdout",
     "output_type": "stream",
     "text": [
      "+--------------+\n|Male Employees|\n+--------------+\n|           452|\n+--------------+\n\n+----------------+\n|Female Employees|\n+----------------+\n|             490|\n+----------------+\n\n"
     ]
    }
   ],
   "source": [
    "# Write your code using the Spark Function\n",
    "m_emp = emp.where(emp.gender == 'Male').select(countDistinct('id').alias('Male Employees'))\n",
    "m_emp.show()\n",
    "\n",
    "f_emp = emp.where(emp.gender == 'Female').select(countDistinct('id').alias('Female Employees'))\n",
    "f_emp.show()"
   ]
  },
  {
   "cell_type": "code",
   "execution_count": 0,
   "metadata": {
    "application/vnd.databricks.v1+cell": {
     "cellMetadata": {
      "byteLimit": 2048000,
      "rowLimit": 10000
     },
     "inputWidgets": {},
     "nuid": "94714a90-a073-4a9b-8f4b-ab09442280d9",
     "showTitle": false,
     "title": ""
    }
   },
   "outputs": [
    {
     "output_type": "stream",
     "name": "stdout",
     "output_type": "stream",
     "text": [
      "+------+--------------+\n|gender|Employee Count|\n+------+--------------+\n|Female|           490|\n|  Male|           452|\n+------+--------------+\n\n"
     ]
    }
   ],
   "source": [
    "mf_emp_count = emp.filter(col('gender')!='null').groupBy('gender').agg(countDistinct('id').alias('Employee Count'))\n",
    "mf_emp_count.show()"
   ]
  },
  {
   "cell_type": "markdown",
   "metadata": {
    "application/vnd.databricks.v1+cell": {
     "cellMetadata": {
      "byteLimit": 2048000,
      "rowLimit": 10000
     },
     "inputWidgets": {},
     "nuid": "a5e18b7e-62b5-4410-b160-18f25ae651a2",
     "showTitle": false,
     "title": ""
    }
   },
   "source": [
    "<b> Who is the employee with the highest salary?"
   ]
  },
  {
   "cell_type": "code",
   "execution_count": 0,
   "metadata": {
    "application/vnd.databricks.v1+cell": {
     "cellMetadata": {
      "byteLimit": 2048000,
      "rowLimit": 10000
     },
     "inputWidgets": {},
     "nuid": "947dd3b0-5b8d-4535-a115-0f459ae8f1ab",
     "showTitle": false,
     "title": ""
    }
   },
   "outputs": [
    {
     "output_type": "stream",
     "name": "stdout",
     "output_type": "stream",
     "text": [
      "+----------+---------+------+\n|first_name|last_name|salary|\n+----------+---------+------+\n|   Alfonso|Hanbridge|199846|\n+----------+---------+------+\n\n"
     ]
    }
   ],
   "source": [
    "# Write your code using the Spark Function\n",
    "high_sal_emp = emp.orderBy(desc('salary')).select('first_name', 'last_name', 'salary').limit(1)\n",
    "high_sal_emp.show()"
   ]
  },
  {
   "cell_type": "markdown",
   "metadata": {
    "application/vnd.databricks.v1+cell": {
     "cellMetadata": {
      "byteLimit": 2048000,
      "rowLimit": 10000
     },
     "inputWidgets": {},
     "nuid": "a481d489-9076-491d-9413-afcb2f9bbb1a",
     "showTitle": false,
     "title": ""
    }
   },
   "source": [
    "<b> What is the total bonus amount paid to all the employees?"
   ]
  },
  {
   "cell_type": "code",
   "execution_count": 0,
   "metadata": {
    "application/vnd.databricks.v1+cell": {
     "cellMetadata": {
      "byteLimit": 2048000,
      "rowLimit": 10000
     },
     "inputWidgets": {},
     "nuid": "546e94d4-e4f9-4713-bf37-79b5c9be164c",
     "showTitle": false,
     "title": ""
    }
   },
   "outputs": [
    {
     "output_type": "stream",
     "name": "stdout",
     "output_type": "stream",
     "text": [
      "+--------------------+\n|          sum(bonus)|\n+--------------------+\n|4.2504812300000034E7|\n+--------------------+\n\n"
     ]
    }
   ],
   "source": [
    "# Write your code using the Spark Function\n",
    "bonus_amount = emp.agg(sum('bonus')).alias('total_bonus_amount')\n",
    "bonus_amount.show()"
   ]
  },
  {
   "cell_type": "markdown",
   "metadata": {
    "application/vnd.databricks.v1+cell": {
     "cellMetadata": {
      "byteLimit": 2048000,
      "rowLimit": 10000
     },
     "inputWidgets": {},
     "nuid": "4a0f2ec1-08df-4ebf-937d-f9917e196791",
     "showTitle": false,
     "title": ""
    }
   },
   "source": [
    "d\n",
    "<b> How many employees were hired in the year 2020?"
   ]
  },
  {
   "cell_type": "code",
   "execution_count": 0,
   "metadata": {
    "application/vnd.databricks.v1+cell": {
     "cellMetadata": {
      "byteLimit": 2048000,
      "rowLimit": 10000
     },
     "inputWidgets": {},
     "nuid": "65dbcf66-0cea-4387-aa8b-60a88e540f8e",
     "showTitle": false,
     "title": ""
    }
   },
   "outputs": [
    {
     "output_type": "stream",
     "name": "stdout",
     "output_type": "stream",
     "text": [
      "+----------+---------+-------------------+\n|first_name|last_name|       creationDate|\n+----------+---------+-------------------+\n|   Sibylla|Sickamore|2020-03-15 15:00:30|\n|     Leigh|     null|2020-04-15 20:54:14|\n|   Arleyne|    Chant|2020-10-19 09:44:37|\n|      Ange|     null|2020-06-24 00:24:01|\n|     Elsey|  Gossage|2020-07-22 15:52:40|\n|   Frasier|  Yurikov|2020-03-07 20:18:55|\n|    Stormy|    Losty|2020-06-07 21:47:32|\n+----------+---------+-------------------+\n\n"
     ]
    }
   ],
   "source": [
    "# Write your code using the Spark Function\n",
    "emp_2020 = emp.filter((year('creationDate')) == '2020').select('first_name', 'last_name','creationDate')\n",
    "emp_2020.show()"
   ]
  },
  {
   "cell_type": "markdown",
   "metadata": {
    "application/vnd.databricks.v1+cell": {
     "cellMetadata": {
      "byteLimit": 2048000,
      "rowLimit": 10000
     },
     "inputWidgets": {},
     "nuid": "1119178d-1eb5-4308-afa1-4024d6c9e369",
     "showTitle": false,
     "title": ""
    }
   },
   "source": [
    "d\n",
    "<b> Who are the top 5 employees with the highest salaries?"
   ]
  },
  {
   "cell_type": "code",
   "execution_count": 0,
   "metadata": {
    "application/vnd.databricks.v1+cell": {
     "cellMetadata": {
      "byteLimit": 2048000,
      "rowLimit": 10000
     },
     "inputWidgets": {},
     "nuid": "63bddabe-f12c-4579-9f2d-e0cfe8e79022",
     "showTitle": false,
     "title": ""
    }
   },
   "outputs": [
    {
     "output_type": "stream",
     "name": "stdout",
     "output_type": "stream",
     "text": [
      "+----------+---------+------+\n|first_name|last_name|salary|\n+----------+---------+------+\n|   Alfonso|Hanbridge|199846|\n|    Dermot|Letchford|199484|\n|    Jennee|Ballingal|198873|\n|  Griswold|   Kocher|198688|\n|   Baryram|  Whitham|198672|\n+----------+---------+------+\n\n"
     ]
    }
   ],
   "source": [
    "# Write your code using the Spark Function\n",
    "top5_emp_sal = emp.orderBy(desc('salary')).select('first_name', 'last_name', 'salary').limit(5)\n",
    "top5_emp_sal.show()"
   ]
  },
  {
   "cell_type": "markdown",
   "metadata": {
    "application/vnd.databricks.v1+cell": {
     "cellMetadata": {
      "byteLimit": 2048000,
      "rowLimit": 10000
     },
     "inputWidgets": {},
     "nuid": "a86448f9-436d-42c7-b889-52015d495ed9",
     "showTitle": false,
     "title": ""
    }
   },
   "source": [
    "d\n",
    "<b> What is the total salary paid to all male employees?"
   ]
  },
  {
   "cell_type": "code",
   "execution_count": 0,
   "metadata": {
    "application/vnd.databricks.v1+cell": {
     "cellMetadata": {
      "byteLimit": 2048000,
      "rowLimit": 10000
     },
     "inputWidgets": {},
     "nuid": "dc23260b-46d1-4f02-8c4a-a8a8c85e926b",
     "showTitle": false,
     "title": ""
    }
   },
   "outputs": [
    {
     "output_type": "stream",
     "name": "stdout",
     "output_type": "stream",
     "text": [
      "+-----------+\n|sum(salary)|\n+-----------+\n|   44253777|\n+-----------+\n\n"
     ]
    }
   ],
   "source": [
    "# Write your code using the Spark Function\n",
    "total_male_sal = emp.filter(\"gender = 'Male'\").agg(sum('salary'))\n",
    "total_male_sal.show()"
   ]
  },
  {
   "cell_type": "markdown",
   "metadata": {
    "application/vnd.databricks.v1+cell": {
     "cellMetadata": {
      "byteLimit": 2048000,
      "rowLimit": 10000
     },
     "inputWidgets": {},
     "nuid": "f884bb3b-36a4-4ef9-9a89-634eff8ee781",
     "showTitle": false,
     "title": ""
    }
   },
   "source": [
    "d\n",
    "<b> Who is the employee with the highest bonus amount?"
   ]
  },
  {
   "cell_type": "code",
   "execution_count": 0,
   "metadata": {
    "application/vnd.databricks.v1+cell": {
     "cellMetadata": {
      "byteLimit": 2048000,
      "rowLimit": 10000
     },
     "inputWidgets": {},
     "nuid": "297aa8ea-7ffa-4db0-90b3-ad73ecb512bb",
     "showTitle": false,
     "title": ""
    }
   },
   "outputs": [
    {
     "output_type": "stream",
     "name": "stdout",
     "output_type": "stream",
     "text": [
      "+----------+---------+--------+\n|first_name|last_name|   bonus|\n+----------+---------+--------+\n|    Franni| Chessell|99993.16|\n+----------+---------+--------+\n\n"
     ]
    }
   ],
   "source": [
    "# Write your code using the Spark Function# Write your code using the Spark Function\n",
    "high_bon_emp = emp.orderBy(desc('bonus')).select('first_name', 'last_name', 'bonus').limit(1)\n",
    "high_bon_emp.show()"
   ]
  },
  {
   "cell_type": "markdown",
   "metadata": {
    "application/vnd.databricks.v1+cell": {
     "cellMetadata": {
      "byteLimit": 2048000,
      "rowLimit": 10000
     },
     "inputWidgets": {},
     "nuid": "3c22077b-bf59-4c3d-bc9e-fca18a0873c2",
     "showTitle": false,
     "title": ""
    }
   },
   "source": [
    "d\n",
    "<b> What is the earliest creation date of any employee in the input file?"
   ]
  },
  {
   "cell_type": "code",
   "execution_count": 0,
   "metadata": {
    "application/vnd.databricks.v1+cell": {
     "cellMetadata": {
      "byteLimit": 2048000,
      "rowLimit": 10000
     },
     "inputWidgets": {},
     "nuid": "8de25cdb-8bee-4652-bebb-73a9549771ab",
     "showTitle": false,
     "title": ""
    }
   },
   "outputs": [
    {
     "output_type": "stream",
     "name": "stdout",
     "output_type": "stream",
     "text": [
      "+-------------------+\n|  min(creationDate)|\n+-------------------+\n|1900-07-08 06:23:29|\n+-------------------+\n\n"
     ]
    }
   ],
   "source": [
    "# Write your code using the Spark Function\n",
    "min_creation_date = emp.agg(min('creationDate'))\n",
    "min_creation_date.show()"
   ]
  },
  {
   "cell_type": "markdown",
   "metadata": {
    "application/vnd.databricks.v1+cell": {
     "cellMetadata": {
      "byteLimit": 2048000,
      "rowLimit": 10000
     },
     "inputWidgets": {},
     "nuid": "7a6d437e-7233-44c7-93be-c3f86dfcd55c",
     "showTitle": false,
     "title": ""
    }
   },
   "source": [
    "d\n",
    "<b> How many employees have a salary greater than 100,000?"
   ]
  },
  {
   "cell_type": "code",
   "execution_count": 0,
   "metadata": {
    "application/vnd.databricks.v1+cell": {
     "cellMetadata": {
      "byteLimit": 2048000,
      "rowLimit": 10000
     },
     "inputWidgets": {},
     "nuid": "1befcd43-2d94-4a98-a9d6-660c8f301948",
     "showTitle": false,
     "title": ""
    }
   },
   "outputs": [
    {
     "output_type": "stream",
     "name": "stdout",
     "output_type": "stream",
     "text": [
      "+-------------------------------+\n|Employees with Salary > 100,000|\n+-------------------------------+\n|                            468|\n+-------------------------------+\n\n"
     ]
    }
   ],
   "source": [
    "# Write your code using the Spark Function\n",
    "empWithSal_100000 = emp.where(col('salary') > 100000).select(countDistinct('id').alias('Employees with Salary > 100,000'))\n",
    "empWithSal_100000.show()                                                             "
   ]
  },
  {
   "cell_type": "markdown",
   "metadata": {
    "application/vnd.databricks.v1+cell": {
     "cellMetadata": {
      "byteLimit": 2048000,
      "rowLimit": 10000
     },
     "inputWidgets": {},
     "nuid": "315bf294-cbea-4284-be44-57d5132069f7",
     "showTitle": false,
     "title": ""
    }
   },
   "source": [
    "d\n",
    "<b> Who is the female employee with the highest salary?"
   ]
  },
  {
   "cell_type": "code",
   "execution_count": 0,
   "metadata": {
    "application/vnd.databricks.v1+cell": {
     "cellMetadata": {
      "byteLimit": 2048000,
      "rowLimit": 10000
     },
     "inputWidgets": {},
     "nuid": "88e1a535-bf47-4ae0-8306-4083a68a2b85",
     "showTitle": false,
     "title": ""
    }
   },
   "outputs": [
    {
     "output_type": "stream",
     "name": "stdout",
     "output_type": "stream",
     "text": [
      "+----------+---------+------+\n|first_name|last_name|salary|\n+----------+---------+------+\n|    Jennee|Ballingal|198873|\n+----------+---------+------+\n\n"
     ]
    }
   ],
   "source": [
    "# Write your code using the Spark Function\n",
    "f_empWithHighSal = emp.filter(\"gender = 'Female'\").orderBy(desc('salary')).select('first_name', 'last_name', 'salary').limit(1)\n",
    "f_empWithHighSal.show()"
   ]
  },
  {
   "cell_type": "markdown",
   "metadata": {
    "application/vnd.databricks.v1+cell": {
     "cellMetadata": {
      "byteLimit": 2048000,
      "rowLimit": 10000
     },
     "inputWidgets": {},
     "nuid": "9b87cf7d-fde1-44f0-98c5-e84e320677c7",
     "showTitle": false,
     "title": ""
    }
   },
   "source": [
    "d\n",
    "<b> What is the total bonus amount paid to female employees?"
   ]
  },
  {
   "cell_type": "code",
   "execution_count": 0,
   "metadata": {
    "application/vnd.databricks.v1+cell": {
     "cellMetadata": {
      "byteLimit": 2048000,
      "rowLimit": 10000
     },
     "inputWidgets": {},
     "nuid": "0e790a6b-6394-4ba0-90e2-37141ae90d1f",
     "showTitle": false,
     "title": ""
    }
   },
   "outputs": [
    {
     "output_type": "stream",
     "name": "stdout",
     "output_type": "stream",
     "text": [
      "+-------------------------------------+\n|Bonus Amount Paid to Female Employees|\n+-------------------------------------+\n|                        2.132315359E7|\n+-------------------------------------+\n\n"
     ]
    }
   ],
   "source": [
    "# Write your code using the Spark Function\n",
    "bonusForFemales = emp.filter(\"gender = 'Female'\").agg(sum('bonus').alias('Bonus Amount Paid to Female Employees'))\n",
    "bonusForFemales.show()"
   ]
  },
  {
   "cell_type": "markdown",
   "metadata": {
    "application/vnd.databricks.v1+cell": {
     "cellMetadata": {
      "byteLimit": 2048000,
      "rowLimit": 10000
     },
     "inputWidgets": {},
     "nuid": "48c93dbe-67e5-460e-bab0-804b533ff977",
     "showTitle": false,
     "title": ""
    }
   },
   "source": [
    "d\n",
    "<b> How many employees have a salary between 50,000 and 75,000?"
   ]
  },
  {
   "cell_type": "code",
   "execution_count": 0,
   "metadata": {
    "application/vnd.databricks.v1+cell": {
     "cellMetadata": {
      "byteLimit": 2048000,
      "rowLimit": 10000
     },
     "inputWidgets": {},
     "nuid": "847bc2e8-bb32-48aa-8fa6-2ab8f55cea80",
     "showTitle": false,
     "title": ""
    }
   },
   "outputs": [
    {
     "output_type": "stream",
     "name": "stdout",
     "output_type": "stream",
     "text": [
      "+------------------------------------+\n|Emps with salary between 50k and 75k|\n+------------------------------------+\n|                                 111|\n+------------------------------------+\n\n"
     ]
    }
   ],
   "source": [
    "# Write your code using the Spark Function\n",
    "empWithSalBetn = emp.filter(\"salary between 50000 and 75000\").select(countDistinct('id').alias('Emps with salary between 50k and 75k'))\n",
    "empWithSalBetn.show()"
   ]
  },
  {
   "cell_type": "markdown",
   "metadata": {
    "application/vnd.databricks.v1+cell": {
     "cellMetadata": {
      "byteLimit": 2048000,
      "rowLimit": 10000
     },
     "inputWidgets": {},
     "nuid": "d5e9e2a9-4133-407e-bc52-c332538b3a1b",
     "showTitle": false,
     "title": ""
    }
   },
   "source": [
    "d\n",
    "<b> Who are the top 10 employees with the highest bonuses?"
   ]
  },
  {
   "cell_type": "code",
   "execution_count": 0,
   "metadata": {
    "application/vnd.databricks.v1+cell": {
     "cellMetadata": {
      "byteLimit": 2048000,
      "rowLimit": 10000
     },
     "inputWidgets": {},
     "nuid": "f67bd07c-76c9-44d1-9a64-1d7db068fc7e",
     "showTitle": false,
     "title": ""
    }
   },
   "outputs": [
    {
     "output_type": "stream",
     "name": "stdout",
     "output_type": "stream",
     "text": [
      "+----------+----------+--------+\n|first_name| last_name|   bonus|\n+----------+----------+--------+\n|    Franni|  Chessell|99993.16|\n|     Asher|     Dupoy|99985.66|\n|    Lovell|    Ingall|99932.43|\n|  Sullivan|    Gyenes| 99845.6|\n|    Jessie|     Grgic|99650.89|\n|     Nicol|    Bruton|99581.27|\n|     Nonah|  Tompkiss|99046.27|\n|      Andy|     Morch|99033.16|\n|      Swen|Hinrichsen|98721.92|\n|   Dorotea|     Kynan|98639.27|\n+----------+----------+--------+\n\n"
     ]
    }
   ],
   "source": [
    "# Write your code using the Spark Function\n",
    "top10bonusemp = emp.orderBy(desc('bonus')).select('first_name', 'last_name', 'bonus').limit(10)\n",
    "top10bonusemp.show()"
   ]
  },
  {
   "cell_type": "markdown",
   "metadata": {
    "application/vnd.databricks.v1+cell": {
     "cellMetadata": {
      "byteLimit": 2048000,
      "rowLimit": 10000
     },
     "inputWidgets": {},
     "nuid": "625e6480-0d48-428e-8bc5-23c64431af3d",
     "showTitle": false,
     "title": ""
    }
   },
   "source": [
    "d\n",
    "<b> What is the latest creation date of any employee in the input file?"
   ]
  },
  {
   "cell_type": "code",
   "execution_count": 0,
   "metadata": {
    "application/vnd.databricks.v1+cell": {
     "cellMetadata": {
      "byteLimit": 2048000,
      "rowLimit": 10000
     },
     "inputWidgets": {},
     "nuid": "3296515c-2b05-4f9d-96c9-c9ea595044d4",
     "showTitle": false,
     "title": ""
    }
   },
   "outputs": [
    {
     "output_type": "stream",
     "name": "stdout",
     "output_type": "stream",
     "text": [
      "+--------------------+\n|Latest Creation Date|\n+--------------------+\n| 2023-03-24 14:50:38|\n+--------------------+\n\n"
     ]
    }
   ],
   "source": [
    "# Write your code using the Spark Function\n",
    "latest_creation_date = emp.agg(max('creationDate').alias('Latest Creation Date'))\n",
    "latest_creation_date.show()"
   ]
  },
  {
   "cell_type": "markdown",
   "metadata": {
    "application/vnd.databricks.v1+cell": {
     "cellMetadata": {
      "byteLimit": 2048000,
      "rowLimit": 10000
     },
     "inputWidgets": {},
     "nuid": "8b3c7eb8-65ec-47d1-94e9-80d9e4bc5f1c",
     "showTitle": false,
     "title": ""
    }
   },
   "source": [
    "d\n",
    "<b> How many employees have a salary less than 50,000?"
   ]
  },
  {
   "cell_type": "code",
   "execution_count": 0,
   "metadata": {
    "application/vnd.databricks.v1+cell": {
     "cellMetadata": {
      "byteLimit": 2048000,
      "rowLimit": 10000
     },
     "inputWidgets": {},
     "nuid": "f82b5d00-7e44-4076-8080-826d0c11ffb9",
     "showTitle": false,
     "title": ""
    }
   },
   "outputs": [
    {
     "output_type": "stream",
     "name": "stdout",
     "output_type": "stream",
     "text": [
      "+------------------------+\n|Employees with Sal < 50k|\n+------------------------+\n|                     228|\n+------------------------+\n\n"
     ]
    }
   ],
   "source": [
    "# Write your code using the Spark Function\n",
    "sal_less_50k = emp.filter(\"salary < 50000\").select(countDistinct('id').alias('Employees with Sal < 50k'))\n",
    "sal_less_50k.show()"
   ]
  },
  {
   "cell_type": "markdown",
   "metadata": {
    "application/vnd.databricks.v1+cell": {
     "cellMetadata": {
      "byteLimit": 2048000,
      "rowLimit": 10000
     },
     "inputWidgets": {},
     "nuid": "31cc824e-183d-4cf1-ad6b-71126c3fa92e",
     "showTitle": false,
     "title": ""
    }
   },
   "source": [
    "d\n",
    "<b> Who are the top 3 employees with the lowest salaries?"
   ]
  },
  {
   "cell_type": "code",
   "execution_count": 0,
   "metadata": {
    "application/vnd.databricks.v1+cell": {
     "cellMetadata": {
      "byteLimit": 2048000,
      "rowLimit": 10000
     },
     "inputWidgets": {},
     "nuid": "c36e0b45-f426-4870-bb83-8200e4491f43",
     "showTitle": false,
     "title": ""
    }
   },
   "outputs": [
    {
     "output_type": "stream",
     "name": "stdout",
     "output_type": "stream",
     "text": [
      "+----------+----------+------+\n|first_name| last_name|salary|\n+----------+----------+------+\n|  Hercules|Pollington|   109|\n|     Olwen| O'Scanlon|   184|\n| Heriberto|      null|   479|\n+----------+----------+------+\n\n"
     ]
    }
   ],
   "source": [
    "# Write your code using the Spark Function\n",
    "top3lowestSalEmp = emp.orderBy(asc_nulls_last('salary')).select('first_name', 'last_name', 'salary').limit(3)\n",
    "top3lowestSalEmp.show()"
   ]
  },
  {
   "cell_type": "markdown",
   "metadata": {
    "application/vnd.databricks.v1+cell": {
     "cellMetadata": {
      "byteLimit": 2048000,
      "rowLimit": 10000
     },
     "inputWidgets": {},
     "nuid": "d2a0ab65-4e44-4edd-8781-3c2d9723c9fd",
     "showTitle": false,
     "title": ""
    }
   },
   "source": [
    "d\n",
    "<b> What is the average bonus amount paid to all employees?"
   ]
  },
  {
   "cell_type": "code",
   "execution_count": 0,
   "metadata": {
    "application/vnd.databricks.v1+cell": {
     "cellMetadata": {
      "byteLimit": 2048000,
      "rowLimit": 10000
     },
     "inputWidgets": {},
     "nuid": "d697b9a0-d6e2-425b-a66b-7ee96e56f7f2",
     "showTitle": false,
     "title": ""
    }
   },
   "outputs": [
    {
     "output_type": "stream",
     "name": "stdout",
     "output_type": "stream",
     "text": [
      "+-----------------+\n|        Avg Bonus|\n+-----------------+\n|50965.00275779381|\n+-----------------+\n\n"
     ]
    }
   ],
   "source": [
    "# Write your code using the Spark Function\n",
    "avg_bonus = emp.agg(avg('bonus').alias('Avg Bonus'))\n",
    "avg_bonus.show()"
   ]
  },
  {
   "cell_type": "markdown",
   "metadata": {
    "application/vnd.databricks.v1+cell": {
     "cellMetadata": {
      "byteLimit": 2048000,
      "rowLimit": 10000
     },
     "inputWidgets": {},
     "nuid": "ec198c70-feec-41b0-8c9d-510bf76d87ef",
     "showTitle": false,
     "title": ""
    }
   },
   "source": [
    "d\n",
    "<b> How many employees have a bonus greater than their salary?"
   ]
  },
  {
   "cell_type": "code",
   "execution_count": 0,
   "metadata": {
    "application/vnd.databricks.v1+cell": {
     "cellMetadata": {
      "byteLimit": 2048000,
      "rowLimit": 10000
     },
     "inputWidgets": {},
     "nuid": "b484f9ac-b724-4f7a-975f-cebe0fd73201",
     "showTitle": false,
     "title": ""
    }
   },
   "outputs": [
    {
     "output_type": "stream",
     "name": "stdout",
     "output_type": "stream",
     "text": [
      "+--------------------------+\n|Employees with Bonus > Sal|\n+--------------------------+\n|                       187|\n+--------------------------+\n\n"
     ]
    }
   ],
   "source": [
    "# Write your code using the Spark Function\n",
    "bonusGreatThanSal = emp.filter(\"bonus > salary\").select(countDistinct('id').alias('Employees with Bonus > Sal'))\n",
    "bonusGreatThanSal.show()"
   ]
  },
  {
   "cell_type": "code",
   "execution_count": 0,
   "metadata": {
    "application/vnd.databricks.v1+cell": {
     "cellMetadata": {
      "byteLimit": 2048000,
      "rowLimit": 10000
     },
     "inputWidgets": {},
     "nuid": "373ad6b5-0ec2-4e22-ae91-48280a96520a",
     "showTitle": false,
     "title": ""
    }
   },
   "outputs": [],
   "source": []
  }
 ],
 "metadata": {
  "application/vnd.databricks.v1+notebook": {
   "dashboards": [],
   "language": "python",
   "notebookMetadata": {
    "pythonIndentUnit": 2
   },
   "notebookName": "Databricks-Assignment 1 (Basic Common Transformation)",
   "widgets": {}
  }
 },
 "nbformat": 4,
 "nbformat_minor": 0
}
